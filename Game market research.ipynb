{
 "cells": [
  {
   "cell_type": "markdown",
   "metadata": {},
   "source": [
    "# Game market research"
   ]
  },
  {
   "cell_type": "markdown",
   "metadata": {},
   "source": [
    "Game online store, which sells computer games all over the world. Historical game sales data, user and expert ratings, genres and platforms (such as Xbox or PlayStation) are available from public sources. It is necessary to identify patterns that determine the success of the game. This will allow you to bid on a potentially popular product and plan advertising campaigns.\n",
    "I have data up to 2016. It is now December 2016 and we are planning a campaign for 2017. It is necessary to work out the principle of working with data."
   ]
  },
  {
   "cell_type": "markdown",
   "metadata": {},
   "source": [
    "Data Description games.csv"
   ]
  },
  {
   "cell_type": "markdown",
   "metadata": {},
   "source": [
    "- Name - the name of the game\n",
    "- Platform - platform\n",
    "- Year_of_Release - year of release\n",
    "- Genre - game genre\n",
    "- NA_sales - Sales in North America (millions of dollars)\n",
    "- EU_sales - sales in Europe (millions of dollars)\n",
    "- JP_sales - sales in Japan (millions of dollars)\n",
    "- Other_sales - sales in other countries (millions of dollars)\n",
    "- Critic_Score - Critics score (from 0 to 100)\n",
    "- User_Score - user score (from 0 to 10)\n",
    "- Rating - rating from the ESRB (Entertainment Software Rating Board). This association determines the rating of computer games and assigns them an appropriate age category.\n",
    "\n",
    "Data for 2016 may not be complete."
   ]
  },
  {
   "cell_type": "markdown",
   "metadata": {},
   "source": [
    "# Шаг 1. Open data file and study general information\n",
    "Import the necessary libraries and read the file"
   ]
  },
  {
   "cell_type": "code",
   "execution_count": 1,
   "metadata": {},
   "outputs": [],
   "source": [
    "import pandas as pd\n",
    "import numpy as np\n",
    "import matplotlib.pyplot as plt\n",
    "import seaborn as sns\n",
    "from scipy import stats as st"
   ]
  },
  {
   "cell_type": "code",
   "execution_count": 2,
   "metadata": {},
   "outputs": [
    {
     "ename": "FileNotFoundError",
     "evalue": "[Errno 2] No such file or directory: '/datasets/games.csv'",
     "output_type": "error",
     "traceback": [
      "\u001b[0;31m---------------------------------------------------------------------------\u001b[0m",
      "\u001b[0;31mFileNotFoundError\u001b[0m                         Traceback (most recent call last)",
      "Cell \u001b[0;32mIn[2], line 1\u001b[0m\n\u001b[0;32m----> 1\u001b[0m df \u001b[38;5;241m=\u001b[39m \u001b[43mpd\u001b[49m\u001b[38;5;241;43m.\u001b[39;49m\u001b[43mread_csv\u001b[49m\u001b[43m(\u001b[49m\u001b[38;5;124;43m'\u001b[39;49m\u001b[38;5;124;43m/datasets/games.csv\u001b[39;49m\u001b[38;5;124;43m'\u001b[39;49m\u001b[43m)\u001b[49m\n",
      "File \u001b[0;32m~/anaconda3/lib/python3.10/site-packages/pandas/util/_decorators.py:211\u001b[0m, in \u001b[0;36mdeprecate_kwarg.<locals>._deprecate_kwarg.<locals>.wrapper\u001b[0;34m(*args, **kwargs)\u001b[0m\n\u001b[1;32m    209\u001b[0m     \u001b[38;5;28;01melse\u001b[39;00m:\n\u001b[1;32m    210\u001b[0m         kwargs[new_arg_name] \u001b[38;5;241m=\u001b[39m new_arg_value\n\u001b[0;32m--> 211\u001b[0m \u001b[38;5;28;01mreturn\u001b[39;00m \u001b[43mfunc\u001b[49m\u001b[43m(\u001b[49m\u001b[38;5;241;43m*\u001b[39;49m\u001b[43margs\u001b[49m\u001b[43m,\u001b[49m\u001b[43m \u001b[49m\u001b[38;5;241;43m*\u001b[39;49m\u001b[38;5;241;43m*\u001b[39;49m\u001b[43mkwargs\u001b[49m\u001b[43m)\u001b[49m\n",
      "File \u001b[0;32m~/anaconda3/lib/python3.10/site-packages/pandas/util/_decorators.py:331\u001b[0m, in \u001b[0;36mdeprecate_nonkeyword_arguments.<locals>.decorate.<locals>.wrapper\u001b[0;34m(*args, **kwargs)\u001b[0m\n\u001b[1;32m    325\u001b[0m \u001b[38;5;28;01mif\u001b[39;00m \u001b[38;5;28mlen\u001b[39m(args) \u001b[38;5;241m>\u001b[39m num_allow_args:\n\u001b[1;32m    326\u001b[0m     warnings\u001b[38;5;241m.\u001b[39mwarn(\n\u001b[1;32m    327\u001b[0m         msg\u001b[38;5;241m.\u001b[39mformat(arguments\u001b[38;5;241m=\u001b[39m_format_argument_list(allow_args)),\n\u001b[1;32m    328\u001b[0m         \u001b[38;5;167;01mFutureWarning\u001b[39;00m,\n\u001b[1;32m    329\u001b[0m         stacklevel\u001b[38;5;241m=\u001b[39mfind_stack_level(),\n\u001b[1;32m    330\u001b[0m     )\n\u001b[0;32m--> 331\u001b[0m \u001b[38;5;28;01mreturn\u001b[39;00m \u001b[43mfunc\u001b[49m\u001b[43m(\u001b[49m\u001b[38;5;241;43m*\u001b[39;49m\u001b[43margs\u001b[49m\u001b[43m,\u001b[49m\u001b[43m \u001b[49m\u001b[38;5;241;43m*\u001b[39;49m\u001b[38;5;241;43m*\u001b[39;49m\u001b[43mkwargs\u001b[49m\u001b[43m)\u001b[49m\n",
      "File \u001b[0;32m~/anaconda3/lib/python3.10/site-packages/pandas/io/parsers/readers.py:950\u001b[0m, in \u001b[0;36mread_csv\u001b[0;34m(filepath_or_buffer, sep, delimiter, header, names, index_col, usecols, squeeze, prefix, mangle_dupe_cols, dtype, engine, converters, true_values, false_values, skipinitialspace, skiprows, skipfooter, nrows, na_values, keep_default_na, na_filter, verbose, skip_blank_lines, parse_dates, infer_datetime_format, keep_date_col, date_parser, dayfirst, cache_dates, iterator, chunksize, compression, thousands, decimal, lineterminator, quotechar, quoting, doublequote, escapechar, comment, encoding, encoding_errors, dialect, error_bad_lines, warn_bad_lines, on_bad_lines, delim_whitespace, low_memory, memory_map, float_precision, storage_options)\u001b[0m\n\u001b[1;32m    935\u001b[0m kwds_defaults \u001b[38;5;241m=\u001b[39m _refine_defaults_read(\n\u001b[1;32m    936\u001b[0m     dialect,\n\u001b[1;32m    937\u001b[0m     delimiter,\n\u001b[0;32m   (...)\u001b[0m\n\u001b[1;32m    946\u001b[0m     defaults\u001b[38;5;241m=\u001b[39m{\u001b[38;5;124m\"\u001b[39m\u001b[38;5;124mdelimiter\u001b[39m\u001b[38;5;124m\"\u001b[39m: \u001b[38;5;124m\"\u001b[39m\u001b[38;5;124m,\u001b[39m\u001b[38;5;124m\"\u001b[39m},\n\u001b[1;32m    947\u001b[0m )\n\u001b[1;32m    948\u001b[0m kwds\u001b[38;5;241m.\u001b[39mupdate(kwds_defaults)\n\u001b[0;32m--> 950\u001b[0m \u001b[38;5;28;01mreturn\u001b[39;00m \u001b[43m_read\u001b[49m\u001b[43m(\u001b[49m\u001b[43mfilepath_or_buffer\u001b[49m\u001b[43m,\u001b[49m\u001b[43m \u001b[49m\u001b[43mkwds\u001b[49m\u001b[43m)\u001b[49m\n",
      "File \u001b[0;32m~/anaconda3/lib/python3.10/site-packages/pandas/io/parsers/readers.py:605\u001b[0m, in \u001b[0;36m_read\u001b[0;34m(filepath_or_buffer, kwds)\u001b[0m\n\u001b[1;32m    602\u001b[0m _validate_names(kwds\u001b[38;5;241m.\u001b[39mget(\u001b[38;5;124m\"\u001b[39m\u001b[38;5;124mnames\u001b[39m\u001b[38;5;124m\"\u001b[39m, \u001b[38;5;28;01mNone\u001b[39;00m))\n\u001b[1;32m    604\u001b[0m \u001b[38;5;66;03m# Create the parser.\u001b[39;00m\n\u001b[0;32m--> 605\u001b[0m parser \u001b[38;5;241m=\u001b[39m \u001b[43mTextFileReader\u001b[49m\u001b[43m(\u001b[49m\u001b[43mfilepath_or_buffer\u001b[49m\u001b[43m,\u001b[49m\u001b[43m \u001b[49m\u001b[38;5;241;43m*\u001b[39;49m\u001b[38;5;241;43m*\u001b[39;49m\u001b[43mkwds\u001b[49m\u001b[43m)\u001b[49m\n\u001b[1;32m    607\u001b[0m \u001b[38;5;28;01mif\u001b[39;00m chunksize \u001b[38;5;129;01mor\u001b[39;00m iterator:\n\u001b[1;32m    608\u001b[0m     \u001b[38;5;28;01mreturn\u001b[39;00m parser\n",
      "File \u001b[0;32m~/anaconda3/lib/python3.10/site-packages/pandas/io/parsers/readers.py:1442\u001b[0m, in \u001b[0;36mTextFileReader.__init__\u001b[0;34m(self, f, engine, **kwds)\u001b[0m\n\u001b[1;32m   1439\u001b[0m     \u001b[38;5;28mself\u001b[39m\u001b[38;5;241m.\u001b[39moptions[\u001b[38;5;124m\"\u001b[39m\u001b[38;5;124mhas_index_names\u001b[39m\u001b[38;5;124m\"\u001b[39m] \u001b[38;5;241m=\u001b[39m kwds[\u001b[38;5;124m\"\u001b[39m\u001b[38;5;124mhas_index_names\u001b[39m\u001b[38;5;124m\"\u001b[39m]\n\u001b[1;32m   1441\u001b[0m \u001b[38;5;28mself\u001b[39m\u001b[38;5;241m.\u001b[39mhandles: IOHandles \u001b[38;5;241m|\u001b[39m \u001b[38;5;28;01mNone\u001b[39;00m \u001b[38;5;241m=\u001b[39m \u001b[38;5;28;01mNone\u001b[39;00m\n\u001b[0;32m-> 1442\u001b[0m \u001b[38;5;28mself\u001b[39m\u001b[38;5;241m.\u001b[39m_engine \u001b[38;5;241m=\u001b[39m \u001b[38;5;28;43mself\u001b[39;49m\u001b[38;5;241;43m.\u001b[39;49m\u001b[43m_make_engine\u001b[49m\u001b[43m(\u001b[49m\u001b[43mf\u001b[49m\u001b[43m,\u001b[49m\u001b[43m \u001b[49m\u001b[38;5;28;43mself\u001b[39;49m\u001b[38;5;241;43m.\u001b[39;49m\u001b[43mengine\u001b[49m\u001b[43m)\u001b[49m\n",
      "File \u001b[0;32m~/anaconda3/lib/python3.10/site-packages/pandas/io/parsers/readers.py:1735\u001b[0m, in \u001b[0;36mTextFileReader._make_engine\u001b[0;34m(self, f, engine)\u001b[0m\n\u001b[1;32m   1733\u001b[0m     \u001b[38;5;28;01mif\u001b[39;00m \u001b[38;5;124m\"\u001b[39m\u001b[38;5;124mb\u001b[39m\u001b[38;5;124m\"\u001b[39m \u001b[38;5;129;01mnot\u001b[39;00m \u001b[38;5;129;01min\u001b[39;00m mode:\n\u001b[1;32m   1734\u001b[0m         mode \u001b[38;5;241m+\u001b[39m\u001b[38;5;241m=\u001b[39m \u001b[38;5;124m\"\u001b[39m\u001b[38;5;124mb\u001b[39m\u001b[38;5;124m\"\u001b[39m\n\u001b[0;32m-> 1735\u001b[0m \u001b[38;5;28mself\u001b[39m\u001b[38;5;241m.\u001b[39mhandles \u001b[38;5;241m=\u001b[39m \u001b[43mget_handle\u001b[49m\u001b[43m(\u001b[49m\n\u001b[1;32m   1736\u001b[0m \u001b[43m    \u001b[49m\u001b[43mf\u001b[49m\u001b[43m,\u001b[49m\n\u001b[1;32m   1737\u001b[0m \u001b[43m    \u001b[49m\u001b[43mmode\u001b[49m\u001b[43m,\u001b[49m\n\u001b[1;32m   1738\u001b[0m \u001b[43m    \u001b[49m\u001b[43mencoding\u001b[49m\u001b[38;5;241;43m=\u001b[39;49m\u001b[38;5;28;43mself\u001b[39;49m\u001b[38;5;241;43m.\u001b[39;49m\u001b[43moptions\u001b[49m\u001b[38;5;241;43m.\u001b[39;49m\u001b[43mget\u001b[49m\u001b[43m(\u001b[49m\u001b[38;5;124;43m\"\u001b[39;49m\u001b[38;5;124;43mencoding\u001b[39;49m\u001b[38;5;124;43m\"\u001b[39;49m\u001b[43m,\u001b[49m\u001b[43m \u001b[49m\u001b[38;5;28;43;01mNone\u001b[39;49;00m\u001b[43m)\u001b[49m\u001b[43m,\u001b[49m\n\u001b[1;32m   1739\u001b[0m \u001b[43m    \u001b[49m\u001b[43mcompression\u001b[49m\u001b[38;5;241;43m=\u001b[39;49m\u001b[38;5;28;43mself\u001b[39;49m\u001b[38;5;241;43m.\u001b[39;49m\u001b[43moptions\u001b[49m\u001b[38;5;241;43m.\u001b[39;49m\u001b[43mget\u001b[49m\u001b[43m(\u001b[49m\u001b[38;5;124;43m\"\u001b[39;49m\u001b[38;5;124;43mcompression\u001b[39;49m\u001b[38;5;124;43m\"\u001b[39;49m\u001b[43m,\u001b[49m\u001b[43m \u001b[49m\u001b[38;5;28;43;01mNone\u001b[39;49;00m\u001b[43m)\u001b[49m\u001b[43m,\u001b[49m\n\u001b[1;32m   1740\u001b[0m \u001b[43m    \u001b[49m\u001b[43mmemory_map\u001b[49m\u001b[38;5;241;43m=\u001b[39;49m\u001b[38;5;28;43mself\u001b[39;49m\u001b[38;5;241;43m.\u001b[39;49m\u001b[43moptions\u001b[49m\u001b[38;5;241;43m.\u001b[39;49m\u001b[43mget\u001b[49m\u001b[43m(\u001b[49m\u001b[38;5;124;43m\"\u001b[39;49m\u001b[38;5;124;43mmemory_map\u001b[39;49m\u001b[38;5;124;43m\"\u001b[39;49m\u001b[43m,\u001b[49m\u001b[43m \u001b[49m\u001b[38;5;28;43;01mFalse\u001b[39;49;00m\u001b[43m)\u001b[49m\u001b[43m,\u001b[49m\n\u001b[1;32m   1741\u001b[0m \u001b[43m    \u001b[49m\u001b[43mis_text\u001b[49m\u001b[38;5;241;43m=\u001b[39;49m\u001b[43mis_text\u001b[49m\u001b[43m,\u001b[49m\n\u001b[1;32m   1742\u001b[0m \u001b[43m    \u001b[49m\u001b[43merrors\u001b[49m\u001b[38;5;241;43m=\u001b[39;49m\u001b[38;5;28;43mself\u001b[39;49m\u001b[38;5;241;43m.\u001b[39;49m\u001b[43moptions\u001b[49m\u001b[38;5;241;43m.\u001b[39;49m\u001b[43mget\u001b[49m\u001b[43m(\u001b[49m\u001b[38;5;124;43m\"\u001b[39;49m\u001b[38;5;124;43mencoding_errors\u001b[39;49m\u001b[38;5;124;43m\"\u001b[39;49m\u001b[43m,\u001b[49m\u001b[43m \u001b[49m\u001b[38;5;124;43m\"\u001b[39;49m\u001b[38;5;124;43mstrict\u001b[39;49m\u001b[38;5;124;43m\"\u001b[39;49m\u001b[43m)\u001b[49m\u001b[43m,\u001b[49m\n\u001b[1;32m   1743\u001b[0m \u001b[43m    \u001b[49m\u001b[43mstorage_options\u001b[49m\u001b[38;5;241;43m=\u001b[39;49m\u001b[38;5;28;43mself\u001b[39;49m\u001b[38;5;241;43m.\u001b[39;49m\u001b[43moptions\u001b[49m\u001b[38;5;241;43m.\u001b[39;49m\u001b[43mget\u001b[49m\u001b[43m(\u001b[49m\u001b[38;5;124;43m\"\u001b[39;49m\u001b[38;5;124;43mstorage_options\u001b[39;49m\u001b[38;5;124;43m\"\u001b[39;49m\u001b[43m,\u001b[49m\u001b[43m \u001b[49m\u001b[38;5;28;43;01mNone\u001b[39;49;00m\u001b[43m)\u001b[49m\u001b[43m,\u001b[49m\n\u001b[1;32m   1744\u001b[0m \u001b[43m\u001b[49m\u001b[43m)\u001b[49m\n\u001b[1;32m   1745\u001b[0m \u001b[38;5;28;01massert\u001b[39;00m \u001b[38;5;28mself\u001b[39m\u001b[38;5;241m.\u001b[39mhandles \u001b[38;5;129;01mis\u001b[39;00m \u001b[38;5;129;01mnot\u001b[39;00m \u001b[38;5;28;01mNone\u001b[39;00m\n\u001b[1;32m   1746\u001b[0m f \u001b[38;5;241m=\u001b[39m \u001b[38;5;28mself\u001b[39m\u001b[38;5;241m.\u001b[39mhandles\u001b[38;5;241m.\u001b[39mhandle\n",
      "File \u001b[0;32m~/anaconda3/lib/python3.10/site-packages/pandas/io/common.py:856\u001b[0m, in \u001b[0;36mget_handle\u001b[0;34m(path_or_buf, mode, encoding, compression, memory_map, is_text, errors, storage_options)\u001b[0m\n\u001b[1;32m    851\u001b[0m \u001b[38;5;28;01melif\u001b[39;00m \u001b[38;5;28misinstance\u001b[39m(handle, \u001b[38;5;28mstr\u001b[39m):\n\u001b[1;32m    852\u001b[0m     \u001b[38;5;66;03m# Check whether the filename is to be opened in binary mode.\u001b[39;00m\n\u001b[1;32m    853\u001b[0m     \u001b[38;5;66;03m# Binary mode does not support 'encoding' and 'newline'.\u001b[39;00m\n\u001b[1;32m    854\u001b[0m     \u001b[38;5;28;01mif\u001b[39;00m ioargs\u001b[38;5;241m.\u001b[39mencoding \u001b[38;5;129;01mand\u001b[39;00m \u001b[38;5;124m\"\u001b[39m\u001b[38;5;124mb\u001b[39m\u001b[38;5;124m\"\u001b[39m \u001b[38;5;129;01mnot\u001b[39;00m \u001b[38;5;129;01min\u001b[39;00m ioargs\u001b[38;5;241m.\u001b[39mmode:\n\u001b[1;32m    855\u001b[0m         \u001b[38;5;66;03m# Encoding\u001b[39;00m\n\u001b[0;32m--> 856\u001b[0m         handle \u001b[38;5;241m=\u001b[39m \u001b[38;5;28;43mopen\u001b[39;49m\u001b[43m(\u001b[49m\n\u001b[1;32m    857\u001b[0m \u001b[43m            \u001b[49m\u001b[43mhandle\u001b[49m\u001b[43m,\u001b[49m\n\u001b[1;32m    858\u001b[0m \u001b[43m            \u001b[49m\u001b[43mioargs\u001b[49m\u001b[38;5;241;43m.\u001b[39;49m\u001b[43mmode\u001b[49m\u001b[43m,\u001b[49m\n\u001b[1;32m    859\u001b[0m \u001b[43m            \u001b[49m\u001b[43mencoding\u001b[49m\u001b[38;5;241;43m=\u001b[39;49m\u001b[43mioargs\u001b[49m\u001b[38;5;241;43m.\u001b[39;49m\u001b[43mencoding\u001b[49m\u001b[43m,\u001b[49m\n\u001b[1;32m    860\u001b[0m \u001b[43m            \u001b[49m\u001b[43merrors\u001b[49m\u001b[38;5;241;43m=\u001b[39;49m\u001b[43merrors\u001b[49m\u001b[43m,\u001b[49m\n\u001b[1;32m    861\u001b[0m \u001b[43m            \u001b[49m\u001b[43mnewline\u001b[49m\u001b[38;5;241;43m=\u001b[39;49m\u001b[38;5;124;43m\"\u001b[39;49m\u001b[38;5;124;43m\"\u001b[39;49m\u001b[43m,\u001b[49m\n\u001b[1;32m    862\u001b[0m \u001b[43m        \u001b[49m\u001b[43m)\u001b[49m\n\u001b[1;32m    863\u001b[0m     \u001b[38;5;28;01melse\u001b[39;00m:\n\u001b[1;32m    864\u001b[0m         \u001b[38;5;66;03m# Binary mode\u001b[39;00m\n\u001b[1;32m    865\u001b[0m         handle \u001b[38;5;241m=\u001b[39m \u001b[38;5;28mopen\u001b[39m(handle, ioargs\u001b[38;5;241m.\u001b[39mmode)\n",
      "\u001b[0;31mFileNotFoundError\u001b[0m: [Errno 2] No such file or directory: '/datasets/games.csv'"
     ]
    }
   ],
   "source": [
    "df = pd.read_csv('/datasets/games.csv')"
   ]
  },
  {
   "cell_type": "markdown",
   "metadata": {},
   "source": [
    "Exploring general information about data"
   ]
  },
  {
   "cell_type": "code",
   "execution_count": null,
   "metadata": {},
   "outputs": [],
   "source": [
    "df.info()"
   ]
  },
  {
   "cell_type": "markdown",
   "metadata": {},
   "source": [
    "We see 16713 values, while not all data is available, there are many gaps"
   ]
  },
  {
   "cell_type": "markdown",
   "metadata": {},
   "source": [
    "Let's see the first 10 values"
   ]
  },
  {
   "cell_type": "code",
   "execution_count": null,
   "metadata": {},
   "outputs": [],
   "source": [
    "df.head(10)"
   ]
  },
  {
   "cell_type": "markdown",
   "metadata": {},
   "source": [
    "The main omissions are concentrated in the estimates. Given the size of the database, this can be caused by \n",
    "1) Game size (no one rates smaller games) \n",
    "2) Age of limitation (older games weren't rated in the data source) \n",
    "3) Failed to load from data or other issues"
   ]
  },
  {
   "cell_type": "code",
   "execution_count": null,
   "metadata": {},
   "outputs": [],
   "source": [
    "df.hist(figsize=(15, 20));"
   ]
  },
  {
   "cell_type": "markdown",
   "metadata": {},
   "source": [
    "We see outliers in the data in all columns except for the year and the rating of critics"
   ]
  },
  {
   "cell_type": "markdown",
   "metadata": {},
   "source": [
    "# Prepare the data\n",
    "Change the column names (reduce to lower case);\n",
    "Apply the lower case function to the names and check the result"
   ]
  },
  {
   "cell_type": "code",
   "execution_count": null,
   "metadata": {},
   "outputs": [],
   "source": [
    "df.columns = df.columns.str.lower()\n",
    "print(df.columns)"
   ]
  },
  {
   "cell_type": "code",
   "execution_count": null,
   "metadata": {},
   "outputs": [],
   "source": [
    "# Calculate the proportion of outstanding values and remove them if it is small\n",
    "print(df[df['na_sales']>3]['na_sales'].count())\n",
    "print(100*df[df['na_sales']>3]['na_sales'].count()/df['na_sales'].count())\n",
    "print(df['na_sales'].hist(bins=10,range=(0,3)))\n",
    "df = df.drop(index = df[(df['na_sales'] >3)].index)\n",
    "#validation\n",
    "print(df[df['na_sales']>3]['na_sales'].count())\n"
   ]
  },
  {
   "cell_type": "code",
   "execution_count": null,
   "metadata": {},
   "outputs": [],
   "source": [
    "# Calculate the proportion of outstanding values and remove them if it is small\n",
    "print(df[df['eu_sales']>3]['eu_sales'].count())\n",
    "print(100*df[df['eu_sales']>3]['eu_sales'].count()/df['eu_sales'].count())\n",
    "print(df['eu_sales'].hist(bins=10,range=(0,3)))\n",
    "df = df.drop(index = df[(df['eu_sales'] >3)].index)\n",
    "#validation\n",
    "print(df[df['eu_sales']>3]['eu_sales'].count())\n"
   ]
  },
  {
   "cell_type": "code",
   "execution_count": null,
   "metadata": {},
   "outputs": [],
   "source": [
    "# Calculate the proportion of outstanding values and remove them if it is small\n",
    "print(df[df['other_sales']>3]['other_sales'].count())\n",
    "print(100*df[df['other_sales']>3]['other_sales'].count()/df['other_sales'].count())\n",
    "print(df['other_sales'].hist(bins=10,range=(0,3)))\n",
    "df = df.drop(index = df[(df['other_sales'] >3)].index)\n",
    "#validation\n",
    "print(df[df['other_sales']>3]['other_sales'].count())\n"
   ]
  },
  {
   "cell_type": "code",
   "execution_count": null,
   "metadata": {},
   "outputs": [],
   "source": [
    "#Calculate the proportion of outstanding values and remove them if it is small\n",
    "print(df[df['jp_sales']>3]['jp_sales'].count())\n",
    "print(100*df[df['jp_sales']>3]['jp_sales'].count()/df['jp_sales'].count())\n",
    "print(df['jp_sales'].hist(bins=10,range=(0,3)))\n",
    "df = df.drop(index = df[(df['jp_sales'] >3)].index)\n",
    "#validation\n",
    "print(df[df['jp_sales']>3]['jp_sales'].count())\n"
   ]
  },
  {
   "cell_type": "code",
   "execution_count": null,
   "metadata": {},
   "outputs": [],
   "source": [
    "df.hist(figsize=(15, 20));"
   ]
  },
  {
   "cell_type": "markdown",
   "metadata": {},
   "source": [
    "Let's see how many passes"
   ]
  },
  {
   "cell_type": "code",
   "execution_count": null,
   "metadata": {},
   "outputs": [],
   "source": [
    "df.isna().sum()"
   ]
  },
  {
   "cell_type": "markdown",
   "metadata": {},
   "source": [
    "The main gaps are in the estimates. There's still a bit in years and game titles"
   ]
  },
  {
   "cell_type": "markdown",
   "metadata": {},
   "source": [
    "Delete empty lines in games and check"
   ]
  },
  {
   "cell_type": "code",
   "execution_count": null,
   "metadata": {},
   "outputs": [],
   "source": [
    "df.dropna(subset=['name'], inplace=True)\n",
    "df['name'].isna().sum()"
   ]
  },
  {
   "cell_type": "markdown",
   "metadata": {},
   "source": [
    "Convert the data to the required types. Let's describe in which columns the data type was replaced and why\n",
    "Finding out the current data types"
   ]
  },
  {
   "cell_type": "code",
   "execution_count": null,
   "metadata": {},
   "outputs": [],
   "source": [
    "df.dtypes"
   ]
  },
  {
   "cell_type": "markdown",
   "metadata": {},
   "source": [
    "Let's translate the numerical data (estimates in numbers, years) into a numerical format. Leave the rest as they are text.\n",
    "Data containing 'tbd' can be cast to NaN, so 'tbd - to be determined. Value not yet defined"
   ]
  },
  {
   "cell_type": "code",
   "execution_count": null,
   "metadata": {},
   "outputs": [],
   "source": [
    "df['user_score'] = df['user_score'].replace('tbd', '', regex=True)"
   ]
  },
  {
   "cell_type": "markdown",
   "metadata": {},
   "source": [
    "Check that with gaps in the year field"
   ]
  },
  {
   "cell_type": "code",
   "execution_count": null,
   "metadata": {},
   "outputs": [],
   "source": [
    "df[df['year_of_release'].isna()==True]"
   ]
  },
  {
   "cell_type": "code",
   "execution_count": null,
   "metadata": {},
   "outputs": [],
   "source": [
    "df.query('name == \"FIFA Soccer 2004\"')"
   ]
  },
  {
   "cell_type": "markdown",
   "metadata": {},
   "source": [
    "We see that it is possible to fill in the gaps through other platforms. Let's try and see the result"
   ]
  },
  {
   "cell_type": "code",
   "execution_count": null,
   "metadata": {},
   "outputs": [],
   "source": [
    "print(df['year_of_release'].isna().sum())\n",
    "for i in df[df['year_of_release'].isnull() == True].index:  \n",
    "    df.loc[i,'year_of_release'] = df.loc[df['name'] == df['name'][i], 'year_of_release'].max()\n",
    "print(df['year_of_release'].isna().sum())"
   ]
  },
  {
   "cell_type": "markdown",
   "metadata": {},
   "source": [
    "Replacing the values of numerical variables"
   ]
  },
  {
   "cell_type": "code",
   "execution_count": null,
   "metadata": {},
   "outputs": [],
   "source": [
    "df['user_score']=pd.to_numeric(df['user_score'], errors='coerce')"
   ]
  },
  {
   "cell_type": "code",
   "execution_count": null,
   "metadata": {},
   "outputs": [],
   "source": [
    "df['year_of_release'] = df['year_of_release'].astype('Int64')\n",
    "df['user_score'].fillna('')\n",
    "df['critic_score'].fillna('')\n",
    "df['critic_score'].astype('float')\n",
    "df['user_score']=pd.to_numeric(df['user_score'], errors='coerce')"
   ]
  },
  {
   "cell_type": "code",
   "execution_count": null,
   "metadata": {},
   "outputs": [],
   "source": [
    "df.dtypes"
   ]
  },
  {
   "cell_type": "markdown",
   "metadata": {},
   "source": [
    "Calculate the total sales in all regions and write them in a separate column."
   ]
  },
  {
   "cell_type": "code",
   "execution_count": null,
   "metadata": {},
   "outputs": [],
   "source": [
    "df['total_sales'] = (df['na_sales']+df['eu_sales']+df['jp_sales']+df['other_sales'])\n",
    "print('Total sales in all regions:',df['total_sales'].sum())"
   ]
  },
  {
   "cell_type": "markdown",
   "metadata": {},
   "source": [
    "# Step 3:  Exploratory data analysis\n",
    "See how many games were released over the years. Is data for all periods important?"
   ]
  },
  {
   "cell_type": "markdown",
   "metadata": {},
   "source": [
    "We group the data by years and build a graph.\n",
    "Data before 2000 looks unrepresentative, as it differs greatly from the more recent period"
   ]
  },
  {
   "cell_type": "code",
   "execution_count": null,
   "metadata": {},
   "outputs": [],
   "source": [
    "(\n",
    "df\n",
    ".pivot_table(index='year_of_release', values='name', aggfunc='count')\n",
    ".plot(y='name', kind='bar', figsize=(16, 8), title='Number of new games for each year', grid=True, color='red', alpha=0.6, legend=False)\n",
    ".set(xlabel='Release year', ylabel='Number of new games')\n",
    ")\n",
    "plt.show()"
   ]
  },
  {
   "cell_type": "markdown",
   "metadata": {},
   "source": [
    "We have seen rapid growth since 1995. The drop may be caused by incomplete data on the games market, as mobile platforms (Iphone and analogues) are not taken into account. The first iPhone appeared in 2012, while the market already existed based on nokia, sony, samsung"
   ]
  },
  {
   "cell_type": "markdown",
   "metadata": {},
   "source": [
    "See how sales have changed across platforms. Select the platforms with the highest total sales and plot the distribution by year."
   ]
  },
  {
   "cell_type": "code",
   "execution_count": null,
   "metadata": {},
   "outputs": [],
   "source": [
    "df.groupby('platform')['total_sales'].sum().sort_values(ascending=False).plot(kind='bar', figsize=(13,4))\n",
    "plt.show()"
   ]
  },
  {
   "cell_type": "markdown",
   "metadata": {},
   "source": [
    "We build charts for the top platforms"
   ]
  },
  {
   "cell_type": "code",
   "execution_count": null,
   "metadata": {},
   "outputs": [],
   "source": [
    "top_platforms  = list(df.groupby('platform')['total_sales'].sum().sort_values(ascending=False)[0:8].keys())\n",
    "for i in top_platforms:\n",
    "    df[df['platform'] == i].pivot_table(index='year_of_release', values='total_sales', aggfunc='sum').plot(\n",
    "    kind='bar', figsize=(13,4))\n",
    "    plt.title(i)\n",
    "    plt.xlabel(\"Years\")\n",
    "    plt.ylabel(\"Sales\")"
   ]
  },
  {
   "cell_type": "markdown",
   "metadata": {},
   "source": [
    "It can be seen from the graphs that the life of the platform is 10 years, a new platform appears in the middle, so we take 5 years from 2011\n",
    "2016 excluded due to incomplete data"
   ]
  },
  {
   "cell_type": "code",
   "execution_count": null,
   "metadata": {},
   "outputs": [],
   "source": [
    "df_new=df[(df['year_of_release']>2012)&(df['year_of_release']<2017)]\n",
    "top_platforms  = list(df_new.groupby('platform')['total_sales'].sum().sort_values(ascending=False)[0:8].keys())"
   ]
  },
  {
   "cell_type": "markdown",
   "metadata": {},
   "source": [
    "Look at the overall distribution of games by genre. What about the most profitable genres? Do genres with high and low sales stand out? Which platforms are leading in sales, rising or falling? Pick a few potentially profitable platforms."
   ]
  },
  {
   "cell_type": "code",
   "execution_count": null,
   "metadata": {},
   "outputs": [],
   "source": [
    "(\n",
    "    df_new\n",
    "    .pivot_table(index='platform', values='total_sales', aggfunc='sum')\n",
    "    .sort_values('total_sales', ascending = False)\n",
    "    .plot(y='total_sales', kind='bar', figsize=(16, 8), title='Total sales by platform', grid=False, color='red', alpha=0.5, legend=False)\n",
    "    .set(xlabel='Platform', ylabel='Sales volume')\n",
    ")\n",
    "plt.show()\n",
    "\n",
    "top_3_platforms = (\n",
    "    df_new\n",
    "    .pivot_table(index='platform', values='total_sales', aggfunc='sum')\n",
    "    .sort_values('total_sales', ascending = False)\n",
    "    .head(3).index.tolist()\n",
    ")\n",
    "print('Top 3 platforms:',top_3_platforms)"
   ]
  },
  {
   "cell_type": "markdown",
   "metadata": {},
   "source": [
    "Let's leave in the analysis only the top"
   ]
  },
  {
   "cell_type": "code",
   "execution_count": null,
   "metadata": {},
   "outputs": [],
   "source": [
    "df_new = df_new.query('platform in @top_3_platforms')"
   ]
  },
  {
   "cell_type": "markdown",
   "metadata": {},
   "source": [
    "Plot a box-and-mustache plot of each game's global sales and breakdown by platform. Is there a big difference in sales? What about average sales across platforms? Describe the result."
   ]
  },
  {
   "cell_type": "code",
   "execution_count": null,
   "metadata": {},
   "outputs": [],
   "source": [
    "df_new.groupby('platform')['total_sales'].describe()"
   ]
  },
  {
   "cell_type": "code",
   "execution_count": null,
   "metadata": {},
   "outputs": [],
   "source": [
    "table = df_new.groupby('platform')['total_sales'].describe()\n",
    "plt.rcParams['figure.figsize']=(16, 5)\n",
    "ax = sns.boxplot(x=\"platform\", y=\"total_sales\", data=df_new, palette='rainbow_r')\n",
    "ax.set_ylim(0, 1)\n",
    "plt.show()"
   ]
  },
  {
   "cell_type": "markdown",
   "metadata": {},
   "source": [
    "We see that the median x360 and ps4 are the same - consoles of the same generation, but ps4 has a wider spread in sales. For PS3, the spread of sales is smaller, as is the median"
   ]
  },
  {
   "cell_type": "markdown",
   "metadata": {},
   "source": [
    "Sales at xone and ps4 can be explained by the stage of maturity - they are in their prime when their predecessors are already completing their cycle, this also affects the sample size"
   ]
  },
  {
   "cell_type": "markdown",
   "metadata": {},
   "source": [
    "See how sales within one popular platform are impacted by user and critic reviews. Plot a scatterplot and calculate the correlation between reviews and sales. Formulate conclusions and correlate them with sales of games on other platforms."
   ]
  },
  {
   "cell_type": "code",
   "execution_count": null,
   "metadata": {},
   "outputs": [],
   "source": [
    "print(top_platforms)"
   ]
  },
  {
   "cell_type": "code",
   "execution_count": null,
   "metadata": {},
   "outputs": [],
   "source": [
    "#Let's write a function that will draw scatter plots and calculate correlations\n",
    "\n",
    "def corr_func(name_of_platform):\n",
    "    platform = df_new[df_new['platform']==name_of_platform]\n",
    "    fig, ax = plt.subplots(1 ,2, figsize=(15,5))\n",
    "    sns.scatterplot(x='user_score', y='total_sales', data=platform, ax=ax[0])\n",
    "    sns.scatterplot(x='critic_score', y='total_sales', data=platform, ax=ax[1])\n",
    "    fig.suptitle(name_of_platform, fontsize=15)\n",
    "    ax[0].set(xlabel='User scor')\n",
    "    ax[1].set(xlabel='Critic score')\n",
    "    ax[0].set(ylabel='Total sales')\n",
    "    ax[1].set(ylabel='Total sales')\n",
    "    plt.show()\n",
    "    \n",
    "    correl = platform['user_score'].corr(platform['total_sales'])\n",
    "    critic_correl = platform['critic_score'].corr(platform['total_sales'])\n",
    "    print('Correlation between critic reviews and gaming platform ', name_of_platform.upper(), round(critic_correl,1))\n",
    "    print('Correlation between user reviews and sales ', name_of_platform.upper(), round(correl,1))\n",
    "\n",
    "    print('\\n')"
   ]
  },
  {
   "cell_type": "code",
   "execution_count": null,
   "metadata": {
    "scrolled": false
   },
   "outputs": [],
   "source": [
    "#Using a loop, display all 6 charts\n",
    "for platform in top_platforms:\n",
    "    corr_func(platform)"
   ]
  },
  {
   "cell_type": "markdown",
   "metadata": {},
   "source": [
    "We see a low correlation between ratings and sales. At the same time, reviews from critics are trusted more (higher correlation) than users, with the exception of Asian platforms"
   ]
  },
  {
   "cell_type": "markdown",
   "metadata": {},
   "source": [
    "Look at the overall distribution of games by genre. What about the most profitable genres? Do genres with high and low sales stand out?"
   ]
  },
  {
   "cell_type": "code",
   "execution_count": null,
   "metadata": {},
   "outputs": [],
   "source": [
    "sales_d = df_new.pivot_table(index='genre', values='total_sales', aggfunc='sum').sort_values(\n",
    "    by='total_sales', ascending=False).reset_index().rename_axis(None, axis=1)\n",
    "sales_d"
   ]
  },
  {
   "cell_type": "code",
   "execution_count": null,
   "metadata": {},
   "outputs": [],
   "source": [
    "sales_d = df_new.pivot_table(index='genre', values='total_sales', aggfunc='median').sort_values(\n",
    "    by='total_sales', ascending=False).reset_index().rename_axis(None, axis=1)\n",
    "sales_d"
   ]
  },
  {
   "cell_type": "markdown",
   "metadata": {},
   "source": [
    "The most profitable genres are Action, Shooter, Sport. The least successful Strategy and Puzzle. Buyers are attracted by fast games.\n",
    "Marginality cannot be inferred because there is no data on production costs. Platform have a high median, which indicates a greater dispersion of the Action genre and the prospects of the Platform genre"
   ]
  },
  {
   "cell_type": "markdown",
   "metadata": {},
   "source": [
    "# Step 4. Create a user profile for each region\n",
    "Define for the user of each region (NA, EU, JP):\n",
    "The most popular platforms (top 5). Describe the differences in sales shares.\n",
    "The most popular genres (top 5). Explain the difference.\n",
    "Does the ESRB rating affect sales in a particular region?"
   ]
  },
  {
   "cell_type": "markdown",
   "metadata": {},
   "source": [
    "NA"
   ]
  },
  {
   "cell_type": "code",
   "execution_count": null,
   "metadata": {},
   "outputs": [],
   "source": [
    "df2=df_new.groupby('platform')['na_sales'].sum().sort_values(ascending=False)\n",
    "a = df2*100/df2.sum()\n",
    "a.plot(kind='bar', figsize=(13,4))\n",
    "plt.show()\n",
    "\n",
    "print('Top 5:',a.head(5).index.tolist())"
   ]
  },
  {
   "cell_type": "code",
   "execution_count": null,
   "metadata": {},
   "outputs": [],
   "source": [
    "df2=df_new.groupby('genre')['na_sales'].sum().sort_values(ascending=False)\n",
    "a=df2*100/df2.sum()\n",
    "a.plot(kind='bar', figsize=(13,4))\n",
    "plt.show()\n",
    "print('Top 5:',a.head(5).index.tolist())"
   ]
  },
  {
   "cell_type": "code",
   "execution_count": null,
   "metadata": {},
   "outputs": [],
   "source": [
    "b=df_new.groupby('rating')['na_sales'].sum().sort_values(ascending=False)\n",
    "b.plot(kind='bar', figsize=(13,4))\n",
    "plt.show()\n",
    "print('Top 5:',b.head(5).index.tolist())"
   ]
  },
  {
   "cell_type": "markdown",
   "metadata": {},
   "source": [
    "EU"
   ]
  },
  {
   "cell_type": "code",
   "execution_count": null,
   "metadata": {},
   "outputs": [],
   "source": [
    "df2=df_new.groupby('platform')['eu_sales'].sum().sort_values(ascending=False)\n",
    "a=df2*100/df2.sum()\n",
    "a.plot(kind='bar', figsize=(13,4))\n",
    "plt.show()\n",
    "print('Top 5:',a.head(5).index.tolist())"
   ]
  },
  {
   "cell_type": "code",
   "execution_count": null,
   "metadata": {},
   "outputs": [],
   "source": [
    "df2=df_new.groupby('genre')['eu_sales'].sum().sort_values(ascending=False)\n",
    "a=df2*100/df2.sum()\n",
    "a.plot(kind='bar', figsize=(13,4))\n",
    "plt.show()\n",
    "print('Top 5:',a.head(5).index.tolist())"
   ]
  },
  {
   "cell_type": "code",
   "execution_count": null,
   "metadata": {},
   "outputs": [],
   "source": [
    "a=df_new.groupby('rating')['eu_sales'].sum().sort_values(ascending=False)\n",
    "a.plot(kind='bar', figsize=(13,4))\n",
    "plt.show()\n",
    "print('Top 5:',a.head(5).index.tolist())"
   ]
  },
  {
   "cell_type": "markdown",
   "metadata": {},
   "source": [
    "JP"
   ]
  },
  {
   "cell_type": "code",
   "execution_count": null,
   "metadata": {
    "scrolled": true
   },
   "outputs": [],
   "source": [
    "df2=df_new.groupby('platform')['jp_sales'].sum().sort_values(ascending=False)\n",
    "a=df2*100/df2.sum()\n",
    "a.plot(kind='bar', figsize=(13,4))\n",
    "plt.show()\n",
    "print('Top 5:',a.head(5).index.tolist())"
   ]
  },
  {
   "cell_type": "code",
   "execution_count": null,
   "metadata": {},
   "outputs": [],
   "source": [
    "df2=df_new.groupby('genre')['jp_sales'].sum().sort_values(ascending=False)\n",
    "a=df2*100/df2.sum()\n",
    "a.plot(kind='bar', figsize=(13,4))\n",
    "plt.show()\n",
    "print('Top 5:',a.head(5).index.tolist())"
   ]
  },
  {
   "cell_type": "code",
   "execution_count": null,
   "metadata": {},
   "outputs": [],
   "source": [
    "a=df_new.groupby('rating')['jp_sales'].sum().sort_values(ascending=False)\n",
    "a.plot(kind='bar', figsize=(13,4))\n",
    "plt.show()\n",
    "print('Top 5:',a.head(3).index.tolist())"
   ]
  },
  {
   "cell_type": "markdown",
   "metadata": {},
   "source": [
    "In general, Europe and America are similar, Asia is different, it is easy to explain the differences in culture.\n",
    "In all regions, E and M collect large sales, the leader in Asia is different. At the same time, games without a rating collect the lion's share. This can be explained by the lack of coverage, especially for the Asian region. An additional factor could be a long tail (not rated) or an unwillingness to rate the game.\n",
    "Asia prefers its own consoles and excels in genre passions"
   ]
  },
  {
   "cell_type": "markdown",
   "metadata": {},
   "source": [
    "# Step 5. Test the hypotheses\n",
    "The average user ratings of the Xbox One and PC platforms are the same;\n",
    "The average user ratings for Action and Sports genres are different.\n",
    "Set the alpha threshold yourself.\n",
    "Explain:\n",
    "How did you formulate the null and alternative hypotheses;\n",
    "What criterion was used to test the hypotheses and why."
   ]
  },
  {
   "cell_type": "markdown",
   "metadata": {},
   "source": [
    "Null hypothesis - population means are equal\n",
    "Alternative - population means are not equal\n",
    "We use the student's t test, since we have a sample, not a general population"
   ]
  },
  {
   "cell_type": "code",
   "execution_count": null,
   "metadata": {},
   "outputs": [],
   "source": [
    "df_new=df[(df['year_of_release']>2012)&(df['year_of_release']<2016)]\n",
    "alpha= 0.05\n",
    "sample_1=df_new[df_new['platform']=='XOne']['user_score'].dropna()\n",
    "sample_2=df_new[df_new['platform']=='PC']['user_score'].dropna()\n",
    "results = st.ttest_ind(sample_1, sample_2, equal_var = False)\n",
    "print('p-value: ', results.pvalue)\n",
    "if (results.pvalue < alpha):\n",
    "    print(\"Rejecting the null hypothesis\")\n",
    "else:\n",
    "    print(\"Failed to reject the null hypothesis\")"
   ]
  },
  {
   "cell_type": "markdown",
   "metadata": {},
   "source": [
    "We can say with a high 95% certainty that the average user ratings of the Xbox One and PC platforms are the same"
   ]
  },
  {
   "cell_type": "code",
   "execution_count": null,
   "metadata": {},
   "outputs": [],
   "source": [
    "alpha= 0.05\n",
    "sample_1=df_new[df_new['genre']=='Action']['user_score'].dropna()\n",
    "sample_2=df_new[df_new['genre']=='Sports']['user_score'].dropna()\n",
    "results = st.ttest_ind(sample_1, sample_2, equal_var = False)\n",
    "print('p-value: ', results.pvalue)\n",
    "if (results.pvalue < alpha):\n",
    "    print(\"Rejecting the null hypothesis\")\n",
    "else:\n",
    "    print(\"Failed to reject the null hypothesis\")"
   ]
  },
  {
   "cell_type": "markdown",
   "metadata": {},
   "source": [
    "It can be said with a high 95% certainty that the average user ratings of the Action and Sports genres are NOT the same"
   ]
  },
  {
   "cell_type": "markdown",
   "metadata": {},
   "source": [
    "Hypothesis: \"The average user ratings of the Xbox one and PC platforms are the same.\" The null hypothesis could not be disproven.\n",
    "Hypothesis: \"Average user ratings for the Action and Sports genres are the same.\" We reject the null hypothesis."
   ]
  },
  {
   "cell_type": "markdown",
   "metadata": {},
   "source": [
    "# STEP 6. General conclusion\n",
    "data omitted"
   ]
  }
 ],
 "metadata": {
  "ExecuteTimeLog": [
   {
    "duration": 1365,
    "start_time": "2022-12-12T08:50:04.370Z"
   },
   {
    "duration": 15,
    "start_time": "2022-12-12T08:50:10.024Z"
   },
   {
    "duration": 19,
    "start_time": "2022-12-12T08:50:17.840Z"
   },
   {
    "duration": 3,
    "start_time": "2022-12-12T08:51:09.801Z"
   },
   {
    "duration": 13,
    "start_time": "2022-12-12T08:51:19.690Z"
   },
   {
    "duration": 12,
    "start_time": "2022-12-12T08:51:42.180Z"
   },
   {
    "duration": 5,
    "start_time": "2022-12-12T08:51:45.976Z"
   },
   {
    "duration": 19,
    "start_time": "2022-12-12T08:51:57.179Z"
   },
   {
    "duration": 23,
    "start_time": "2022-12-12T08:52:03.592Z"
   },
   {
    "duration": 490,
    "start_time": "2022-12-12T08:52:46.412Z"
   },
   {
    "duration": 11,
    "start_time": "2022-12-12T08:52:55.754Z"
   },
   {
    "duration": 8,
    "start_time": "2022-12-12T08:52:56.909Z"
   },
   {
    "duration": 5,
    "start_time": "2022-12-12T08:52:59.300Z"
   },
   {
    "duration": 7,
    "start_time": "2022-12-12T08:53:09.568Z"
   },
   {
    "duration": 2,
    "start_time": "2022-12-12T08:54:09.120Z"
   },
   {
    "duration": 52,
    "start_time": "2022-12-12T08:54:12.401Z"
   },
   {
    "duration": 82,
    "start_time": "2022-12-12T08:54:31.143Z"
   },
   {
    "duration": 420,
    "start_time": "2022-12-12T08:54:57.766Z"
   },
   {
    "duration": 255,
    "start_time": "2022-12-12T08:55:19.790Z"
   },
   {
    "duration": 1167,
    "start_time": "2022-12-12T08:55:26.889Z"
   },
   {
    "duration": 5,
    "start_time": "2022-12-12T08:55:51.715Z"
   },
   {
    "duration": 278,
    "start_time": "2022-12-12T08:56:34.870Z"
   },
   {
    "duration": 8,
    "start_time": "2022-12-12T08:56:39.180Z"
   },
   {
    "duration": 25,
    "start_time": "2022-12-12T08:56:45.147Z"
   },
   {
    "duration": 175,
    "start_time": "2022-12-12T08:56:47.601Z"
   },
   {
    "duration": 5,
    "start_time": "2022-12-12T08:56:59.906Z"
   },
   {
    "duration": 1482,
    "start_time": "2022-12-12T08:57:06.756Z"
   },
   {
    "duration": 17,
    "start_time": "2022-12-12T08:57:41.807Z"
   },
   {
    "duration": 261,
    "start_time": "2022-12-12T08:58:00.994Z"
   },
   {
    "duration": 172,
    "start_time": "2022-12-12T08:58:04.980Z"
   },
   {
    "duration": 112,
    "start_time": "2022-12-12T08:58:09.046Z"
   },
   {
    "duration": 339,
    "start_time": "2022-12-12T08:58:17.840Z"
   },
   {
    "duration": 175,
    "start_time": "2022-12-12T08:58:32.491Z"
   },
   {
    "duration": 19,
    "start_time": "2022-12-12T08:58:36.052Z"
   },
   {
    "duration": 242,
    "start_time": "2022-12-12T08:58:40.738Z"
   },
   {
    "duration": 159,
    "start_time": "2022-12-12T08:58:43.759Z"
   },
   {
    "duration": 17,
    "start_time": "2022-12-12T08:58:46.804Z"
   },
   {
    "duration": 1175,
    "start_time": "2022-12-12T09:05:23.987Z"
   },
   {
    "duration": 15,
    "start_time": "2022-12-12T09:05:25.164Z"
   },
   {
    "duration": 18,
    "start_time": "2022-12-12T09:05:25.181Z"
   },
   {
    "duration": 3,
    "start_time": "2022-12-12T09:05:25.201Z"
   },
   {
    "duration": 16,
    "start_time": "2022-12-12T09:05:25.206Z"
   },
   {
    "duration": 15,
    "start_time": "2022-12-12T09:05:25.224Z"
   },
   {
    "duration": 5,
    "start_time": "2022-12-12T09:05:25.240Z"
   },
   {
    "duration": 20,
    "start_time": "2022-12-12T09:05:25.247Z"
   },
   {
    "duration": 48,
    "start_time": "2022-12-12T09:05:25.269Z"
   },
   {
    "duration": 15,
    "start_time": "2022-12-12T09:05:25.320Z"
   },
   {
    "duration": 463,
    "start_time": "2022-12-12T09:05:25.337Z"
   },
   {
    "duration": 14,
    "start_time": "2022-12-12T09:05:25.801Z"
   },
   {
    "duration": 8,
    "start_time": "2022-12-12T09:05:25.817Z"
   },
   {
    "duration": 6,
    "start_time": "2022-12-12T09:05:25.827Z"
   },
   {
    "duration": 7,
    "start_time": "2022-12-12T09:05:25.835Z"
   },
   {
    "duration": 397,
    "start_time": "2022-12-12T09:05:25.844Z"
   },
   {
    "duration": 298,
    "start_time": "2022-12-12T09:05:26.244Z"
   },
   {
    "duration": 1124,
    "start_time": "2022-12-12T09:05:26.543Z"
   },
   {
    "duration": 6,
    "start_time": "2022-12-12T09:05:27.668Z"
   },
   {
    "duration": 284,
    "start_time": "2022-12-12T09:05:27.675Z"
   },
   {
    "duration": 9,
    "start_time": "2022-12-12T09:05:27.961Z"
   },
   {
    "duration": 44,
    "start_time": "2022-12-12T09:05:27.972Z"
   },
   {
    "duration": 205,
    "start_time": "2022-12-12T09:05:28.018Z"
   },
   {
    "duration": 5,
    "start_time": "2022-12-12T09:05:28.225Z"
   },
   {
    "duration": 1509,
    "start_time": "2022-12-12T09:05:28.232Z"
   },
   {
    "duration": 15,
    "start_time": "2022-12-12T09:05:29.742Z"
   },
   {
    "duration": 259,
    "start_time": "2022-12-12T09:05:29.759Z"
   },
   {
    "duration": 183,
    "start_time": "2022-12-12T09:05:30.021Z"
   },
   {
    "duration": 120,
    "start_time": "2022-12-12T09:05:30.206Z"
   },
   {
    "duration": 0,
    "start_time": "2022-12-12T09:05:30.327Z"
   },
   {
    "duration": 0,
    "start_time": "2022-12-12T09:05:30.328Z"
   },
   {
    "duration": 0,
    "start_time": "2022-12-12T09:05:30.329Z"
   },
   {
    "duration": 1,
    "start_time": "2022-12-12T09:05:30.330Z"
   },
   {
    "duration": 0,
    "start_time": "2022-12-12T09:05:30.332Z"
   },
   {
    "duration": 0,
    "start_time": "2022-12-12T09:05:30.333Z"
   },
   {
    "duration": 0,
    "start_time": "2022-12-12T09:05:30.333Z"
   },
   {
    "duration": 0,
    "start_time": "2022-12-12T09:05:30.335Z"
   },
   {
    "duration": 25,
    "start_time": "2022-12-12T09:09:41.760Z"
   },
   {
    "duration": 220,
    "start_time": "2022-12-12T09:10:00.595Z"
   },
   {
    "duration": 139,
    "start_time": "2022-12-12T09:10:51.588Z"
   },
   {
    "duration": 302,
    "start_time": "2022-12-12T09:10:55.489Z"
   },
   {
    "duration": 171,
    "start_time": "2022-12-12T09:10:58.477Z"
   },
   {
    "duration": 18,
    "start_time": "2022-12-12T09:11:00.707Z"
   },
   {
    "duration": 131,
    "start_time": "2022-12-12T09:11:08.228Z"
   },
   {
    "duration": 244,
    "start_time": "2022-12-12T09:11:13.444Z"
   },
   {
    "duration": 160,
    "start_time": "2022-12-12T09:11:16.481Z"
   },
   {
    "duration": 24,
    "start_time": "2022-12-12T09:11:19.625Z"
   },
   {
    "duration": 134,
    "start_time": "2022-12-12T09:11:26.656Z"
   },
   {
    "duration": 1127,
    "start_time": "2022-12-12T09:11:47.406Z"
   },
   {
    "duration": 52,
    "start_time": "2022-12-12T09:11:48.535Z"
   },
   {
    "duration": 12,
    "start_time": "2022-12-12T09:11:48.589Z"
   },
   {
    "duration": 21,
    "start_time": "2022-12-12T09:11:48.603Z"
   },
   {
    "duration": 4,
    "start_time": "2022-12-12T09:11:48.625Z"
   },
   {
    "duration": 13,
    "start_time": "2022-12-12T09:11:48.631Z"
   },
   {
    "duration": 11,
    "start_time": "2022-12-12T09:11:48.646Z"
   },
   {
    "duration": 5,
    "start_time": "2022-12-12T09:11:48.658Z"
   },
   {
    "duration": 19,
    "start_time": "2022-12-12T09:11:48.664Z"
   },
   {
    "duration": 21,
    "start_time": "2022-12-12T09:11:48.715Z"
   },
   {
    "duration": 18,
    "start_time": "2022-12-12T09:11:48.737Z"
   },
   {
    "duration": 460,
    "start_time": "2022-12-12T09:11:48.756Z"
   },
   {
    "duration": 8,
    "start_time": "2022-12-12T09:11:49.217Z"
   },
   {
    "duration": 8,
    "start_time": "2022-12-12T09:11:49.226Z"
   },
   {
    "duration": 4,
    "start_time": "2022-12-12T09:11:49.236Z"
   },
   {
    "duration": 8,
    "start_time": "2022-12-12T09:11:49.242Z"
   },
   {
    "duration": 401,
    "start_time": "2022-12-12T09:11:49.251Z"
   },
   {
    "duration": 261,
    "start_time": "2022-12-12T09:11:49.654Z"
   },
   {
    "duration": 1129,
    "start_time": "2022-12-12T09:11:49.917Z"
   },
   {
    "duration": 5,
    "start_time": "2022-12-12T09:11:51.048Z"
   },
   {
    "duration": 283,
    "start_time": "2022-12-12T09:11:51.054Z"
   },
   {
    "duration": 9,
    "start_time": "2022-12-12T09:11:51.339Z"
   },
   {
    "duration": 25,
    "start_time": "2022-12-12T09:11:51.350Z"
   },
   {
    "duration": 208,
    "start_time": "2022-12-12T09:11:51.377Z"
   },
   {
    "duration": 6,
    "start_time": "2022-12-12T09:11:51.587Z"
   },
   {
    "duration": 1585,
    "start_time": "2022-12-12T09:11:51.595Z"
   },
   {
    "duration": 15,
    "start_time": "2022-12-12T09:11:53.182Z"
   },
   {
    "duration": 255,
    "start_time": "2022-12-12T09:11:53.215Z"
   },
   {
    "duration": 186,
    "start_time": "2022-12-12T09:11:53.472Z"
   },
   {
    "duration": 222,
    "start_time": "2022-12-12T09:11:53.660Z"
   },
   {
    "duration": 262,
    "start_time": "2022-12-12T09:11:53.884Z"
   },
   {
    "duration": 183,
    "start_time": "2022-12-12T09:11:54.147Z"
   },
   {
    "duration": 153,
    "start_time": "2022-12-12T09:11:54.331Z"
   },
   {
    "duration": 268,
    "start_time": "2022-12-12T09:11:54.485Z"
   },
   {
    "duration": 167,
    "start_time": "2022-12-12T09:11:54.754Z"
   },
   {
    "duration": 155,
    "start_time": "2022-12-12T09:11:54.922Z"
   },
   {
    "duration": 10,
    "start_time": "2022-12-12T09:11:55.079Z"
   },
   {
    "duration": 26,
    "start_time": "2022-12-12T09:11:55.091Z"
   },
   {
    "duration": 226,
    "start_time": "2022-12-12T09:16:51.834Z"
   },
   {
    "duration": 1092,
    "start_time": "2022-12-12T09:17:06.828Z"
   },
   {
    "duration": 55,
    "start_time": "2022-12-12T09:17:07.921Z"
   },
   {
    "duration": 13,
    "start_time": "2022-12-12T09:17:07.978Z"
   },
   {
    "duration": 23,
    "start_time": "2022-12-12T09:17:07.993Z"
   },
   {
    "duration": 6,
    "start_time": "2022-12-12T09:17:08.018Z"
   },
   {
    "duration": 11,
    "start_time": "2022-12-12T09:17:08.025Z"
   },
   {
    "duration": 24,
    "start_time": "2022-12-12T09:17:08.038Z"
   },
   {
    "duration": 4,
    "start_time": "2022-12-12T09:17:08.064Z"
   },
   {
    "duration": 20,
    "start_time": "2022-12-12T09:17:08.070Z"
   },
   {
    "duration": 31,
    "start_time": "2022-12-12T09:17:08.091Z"
   },
   {
    "duration": 15,
    "start_time": "2022-12-12T09:17:08.123Z"
   },
   {
    "duration": 466,
    "start_time": "2022-12-12T09:17:08.140Z"
   },
   {
    "duration": 9,
    "start_time": "2022-12-12T09:17:08.607Z"
   },
   {
    "duration": 8,
    "start_time": "2022-12-12T09:17:08.619Z"
   },
   {
    "duration": 12,
    "start_time": "2022-12-12T09:17:08.628Z"
   },
   {
    "duration": 13,
    "start_time": "2022-12-12T09:17:08.642Z"
   },
   {
    "duration": 362,
    "start_time": "2022-12-12T09:17:08.656Z"
   },
   {
    "duration": 252,
    "start_time": "2022-12-12T09:17:09.020Z"
   },
   {
    "duration": 1096,
    "start_time": "2022-12-12T09:17:09.274Z"
   },
   {
    "duration": 5,
    "start_time": "2022-12-12T09:17:10.372Z"
   },
   {
    "duration": 282,
    "start_time": "2022-12-12T09:17:10.378Z"
   },
   {
    "duration": 7,
    "start_time": "2022-12-12T09:17:10.662Z"
   },
   {
    "duration": 28,
    "start_time": "2022-12-12T09:17:10.670Z"
   },
   {
    "duration": 191,
    "start_time": "2022-12-12T09:17:10.700Z"
   },
   {
    "duration": 6,
    "start_time": "2022-12-12T09:17:10.892Z"
   },
   {
    "duration": 1532,
    "start_time": "2022-12-12T09:17:10.899Z"
   },
   {
    "duration": 16,
    "start_time": "2022-12-12T09:17:12.433Z"
   },
   {
    "duration": 284,
    "start_time": "2022-12-12T09:17:12.451Z"
   },
   {
    "duration": 180,
    "start_time": "2022-12-12T09:17:12.737Z"
   },
   {
    "duration": 221,
    "start_time": "2022-12-12T09:17:12.919Z"
   },
   {
    "duration": 246,
    "start_time": "2022-12-12T09:17:13.141Z"
   },
   {
    "duration": 167,
    "start_time": "2022-12-12T09:17:13.389Z"
   },
   {
    "duration": 147,
    "start_time": "2022-12-12T09:17:13.557Z"
   },
   {
    "duration": 268,
    "start_time": "2022-12-12T09:17:13.706Z"
   },
   {
    "duration": 186,
    "start_time": "2022-12-12T09:17:13.976Z"
   },
   {
    "duration": 147,
    "start_time": "2022-12-12T09:17:14.163Z"
   },
   {
    "duration": 11,
    "start_time": "2022-12-12T09:17:14.311Z"
   },
   {
    "duration": 14,
    "start_time": "2022-12-12T09:17:14.323Z"
   },
   {
    "duration": 458,
    "start_time": "2022-12-12T09:26:36.632Z"
   },
   {
    "duration": 1101,
    "start_time": "2022-12-12T09:26:43.928Z"
   },
   {
    "duration": 53,
    "start_time": "2022-12-12T09:26:45.031Z"
   },
   {
    "duration": 14,
    "start_time": "2022-12-12T09:26:45.086Z"
   },
   {
    "duration": 18,
    "start_time": "2022-12-12T09:26:45.102Z"
   },
   {
    "duration": 4,
    "start_time": "2022-12-12T09:26:45.122Z"
   },
   {
    "duration": 11,
    "start_time": "2022-12-12T09:26:45.127Z"
   },
   {
    "duration": 12,
    "start_time": "2022-12-12T09:26:45.139Z"
   },
   {
    "duration": 5,
    "start_time": "2022-12-12T09:26:45.152Z"
   },
   {
    "duration": 16,
    "start_time": "2022-12-12T09:26:45.158Z"
   },
   {
    "duration": 44,
    "start_time": "2022-12-12T09:26:45.176Z"
   },
   {
    "duration": 17,
    "start_time": "2022-12-12T09:26:45.222Z"
   },
   {
    "duration": 603,
    "start_time": "2022-12-12T09:26:45.241Z"
   },
   {
    "duration": 19,
    "start_time": "2022-12-12T09:26:45.846Z"
   },
   {
    "duration": 8,
    "start_time": "2022-12-12T09:26:45.866Z"
   },
   {
    "duration": 6,
    "start_time": "2022-12-12T09:26:45.875Z"
   },
   {
    "duration": 9,
    "start_time": "2022-12-12T09:26:45.883Z"
   },
   {
    "duration": 437,
    "start_time": "2022-12-12T09:26:45.894Z"
   },
   {
    "duration": 290,
    "start_time": "2022-12-12T09:26:46.333Z"
   },
   {
    "duration": 1124,
    "start_time": "2022-12-12T09:26:46.625Z"
   },
   {
    "duration": 9,
    "start_time": "2022-12-12T09:26:47.750Z"
   },
   {
    "duration": 278,
    "start_time": "2022-12-12T09:26:47.760Z"
   },
   {
    "duration": 18,
    "start_time": "2022-12-12T09:26:48.040Z"
   },
   {
    "duration": 30,
    "start_time": "2022-12-12T09:26:48.060Z"
   },
   {
    "duration": 206,
    "start_time": "2022-12-12T09:26:48.092Z"
   },
   {
    "duration": 6,
    "start_time": "2022-12-12T09:26:48.299Z"
   },
   {
    "duration": 1568,
    "start_time": "2022-12-12T09:26:48.315Z"
   },
   {
    "duration": 34,
    "start_time": "2022-12-12T09:26:49.884Z"
   },
   {
    "duration": 268,
    "start_time": "2022-12-12T09:26:49.921Z"
   },
   {
    "duration": 261,
    "start_time": "2022-12-12T09:26:50.191Z"
   },
   {
    "duration": 140,
    "start_time": "2022-12-12T09:26:50.454Z"
   },
   {
    "duration": 254,
    "start_time": "2022-12-12T09:26:50.596Z"
   },
   {
    "duration": 206,
    "start_time": "2022-12-12T09:26:50.851Z"
   },
   {
    "duration": 149,
    "start_time": "2022-12-12T09:26:51.059Z"
   },
   {
    "duration": 261,
    "start_time": "2022-12-12T09:26:51.211Z"
   },
   {
    "duration": 170,
    "start_time": "2022-12-12T09:26:51.474Z"
   },
   {
    "duration": 152,
    "start_time": "2022-12-12T09:26:51.646Z"
   },
   {
    "duration": 22,
    "start_time": "2022-12-12T09:26:51.800Z"
   },
   {
    "duration": 12,
    "start_time": "2022-12-12T09:26:51.823Z"
   },
   {
    "duration": 1053,
    "start_time": "2022-12-12T09:27:30.759Z"
   },
   {
    "duration": 53,
    "start_time": "2022-12-12T09:27:31.813Z"
   },
   {
    "duration": 13,
    "start_time": "2022-12-12T09:27:31.867Z"
   },
   {
    "duration": 32,
    "start_time": "2022-12-12T09:27:31.882Z"
   },
   {
    "duration": 15,
    "start_time": "2022-12-12T09:27:31.916Z"
   },
   {
    "duration": 47,
    "start_time": "2022-12-12T09:27:31.932Z"
   },
   {
    "duration": 56,
    "start_time": "2022-12-12T09:27:31.980Z"
   },
   {
    "duration": 11,
    "start_time": "2022-12-12T09:27:32.038Z"
   },
   {
    "duration": 23,
    "start_time": "2022-12-12T09:27:32.051Z"
   },
   {
    "duration": 26,
    "start_time": "2022-12-12T09:27:32.076Z"
   },
   {
    "duration": 18,
    "start_time": "2022-12-12T09:27:32.103Z"
   },
   {
    "duration": 606,
    "start_time": "2022-12-12T09:27:32.122Z"
   },
   {
    "duration": 19,
    "start_time": "2022-12-12T09:27:32.729Z"
   },
   {
    "duration": 7,
    "start_time": "2022-12-12T09:27:32.751Z"
   },
   {
    "duration": 9,
    "start_time": "2022-12-12T09:27:32.759Z"
   },
   {
    "duration": 8,
    "start_time": "2022-12-12T09:27:32.770Z"
   },
   {
    "duration": 405,
    "start_time": "2022-12-12T09:27:32.780Z"
   },
   {
    "duration": 256,
    "start_time": "2022-12-12T09:27:33.186Z"
   },
   {
    "duration": 1116,
    "start_time": "2022-12-12T09:27:33.443Z"
   },
   {
    "duration": 9,
    "start_time": "2022-12-12T09:27:34.561Z"
   },
   {
    "duration": 273,
    "start_time": "2022-12-12T09:27:34.571Z"
   },
   {
    "duration": 16,
    "start_time": "2022-12-12T09:27:34.846Z"
   },
   {
    "duration": 26,
    "start_time": "2022-12-12T09:27:34.864Z"
   },
   {
    "duration": 194,
    "start_time": "2022-12-12T09:27:34.891Z"
   },
   {
    "duration": 6,
    "start_time": "2022-12-12T09:27:35.086Z"
   },
   {
    "duration": 1579,
    "start_time": "2022-12-12T09:27:35.093Z"
   },
   {
    "duration": 16,
    "start_time": "2022-12-12T09:27:36.673Z"
   },
   {
    "duration": 248,
    "start_time": "2022-12-12T09:27:36.690Z"
   },
   {
    "duration": 260,
    "start_time": "2022-12-12T09:27:36.939Z"
   },
   {
    "duration": 138,
    "start_time": "2022-12-12T09:27:37.201Z"
   },
   {
    "duration": 252,
    "start_time": "2022-12-12T09:27:37.340Z"
   },
   {
    "duration": 183,
    "start_time": "2022-12-12T09:27:37.593Z"
   },
   {
    "duration": 162,
    "start_time": "2022-12-12T09:27:37.777Z"
   },
   {
    "duration": 257,
    "start_time": "2022-12-12T09:27:37.941Z"
   },
   {
    "duration": 162,
    "start_time": "2022-12-12T09:27:38.200Z"
   },
   {
    "duration": 141,
    "start_time": "2022-12-12T09:27:38.363Z"
   },
   {
    "duration": 21,
    "start_time": "2022-12-12T09:27:38.506Z"
   },
   {
    "duration": 9,
    "start_time": "2022-12-12T09:27:38.528Z"
   },
   {
    "duration": 1051,
    "start_time": "2022-12-12T09:28:04.560Z"
   },
   {
    "duration": 52,
    "start_time": "2022-12-12T09:28:05.613Z"
   },
   {
    "duration": 14,
    "start_time": "2022-12-12T09:28:05.666Z"
   },
   {
    "duration": 19,
    "start_time": "2022-12-12T09:28:05.682Z"
   },
   {
    "duration": 4,
    "start_time": "2022-12-12T09:28:05.703Z"
   },
   {
    "duration": 20,
    "start_time": "2022-12-12T09:28:05.709Z"
   },
   {
    "duration": 11,
    "start_time": "2022-12-12T09:28:05.731Z"
   },
   {
    "duration": 5,
    "start_time": "2022-12-12T09:28:05.744Z"
   },
   {
    "duration": 19,
    "start_time": "2022-12-12T09:28:05.751Z"
   },
   {
    "duration": 21,
    "start_time": "2022-12-12T09:28:05.773Z"
   },
   {
    "duration": 36,
    "start_time": "2022-12-12T09:28:05.796Z"
   },
   {
    "duration": 648,
    "start_time": "2022-12-12T09:28:05.833Z"
   },
   {
    "duration": 22,
    "start_time": "2022-12-12T09:28:06.484Z"
   },
   {
    "duration": 17,
    "start_time": "2022-12-12T09:28:06.507Z"
   },
   {
    "duration": 13,
    "start_time": "2022-12-12T09:28:06.525Z"
   },
   {
    "duration": 10,
    "start_time": "2022-12-12T09:28:06.539Z"
   },
   {
    "duration": 412,
    "start_time": "2022-12-12T09:28:06.551Z"
   },
   {
    "duration": 260,
    "start_time": "2022-12-12T09:28:06.965Z"
   },
   {
    "duration": 1110,
    "start_time": "2022-12-12T09:28:07.226Z"
   },
   {
    "duration": 9,
    "start_time": "2022-12-12T09:28:08.338Z"
   },
   {
    "duration": 278,
    "start_time": "2022-12-12T09:28:08.348Z"
   },
   {
    "duration": 20,
    "start_time": "2022-12-12T09:28:08.628Z"
   },
   {
    "duration": 36,
    "start_time": "2022-12-12T09:28:08.650Z"
   },
   {
    "duration": 197,
    "start_time": "2022-12-12T09:28:08.687Z"
   },
   {
    "duration": 6,
    "start_time": "2022-12-12T09:28:08.886Z"
   },
   {
    "duration": 1508,
    "start_time": "2022-12-12T09:28:08.894Z"
   },
   {
    "duration": 22,
    "start_time": "2022-12-12T09:28:10.404Z"
   },
   {
    "duration": 263,
    "start_time": "2022-12-12T09:28:10.430Z"
   },
   {
    "duration": 250,
    "start_time": "2022-12-12T09:28:10.695Z"
   },
   {
    "duration": 146,
    "start_time": "2022-12-12T09:28:10.948Z"
   },
   {
    "duration": 244,
    "start_time": "2022-12-12T09:28:11.095Z"
   },
   {
    "duration": 177,
    "start_time": "2022-12-12T09:28:11.341Z"
   },
   {
    "duration": 150,
    "start_time": "2022-12-12T09:28:11.520Z"
   },
   {
    "duration": 250,
    "start_time": "2022-12-12T09:28:11.672Z"
   },
   {
    "duration": 203,
    "start_time": "2022-12-12T09:28:11.924Z"
   },
   {
    "duration": 151,
    "start_time": "2022-12-12T09:28:12.129Z"
   },
   {
    "duration": 14,
    "start_time": "2022-12-12T09:28:12.283Z"
   },
   {
    "duration": 22,
    "start_time": "2022-12-12T09:28:12.299Z"
   },
   {
    "duration": 449,
    "start_time": "2022-12-12T09:30:14.970Z"
   },
   {
    "duration": 1124,
    "start_time": "2022-12-12T09:30:29.020Z"
   },
   {
    "duration": 55,
    "start_time": "2022-12-12T09:30:30.146Z"
   },
   {
    "duration": 14,
    "start_time": "2022-12-12T09:30:30.203Z"
   },
   {
    "duration": 37,
    "start_time": "2022-12-12T09:30:30.218Z"
   },
   {
    "duration": 13,
    "start_time": "2022-12-12T09:30:30.257Z"
   },
   {
    "duration": 27,
    "start_time": "2022-12-12T09:30:30.272Z"
   },
   {
    "duration": 17,
    "start_time": "2022-12-12T09:30:30.301Z"
   },
   {
    "duration": 37,
    "start_time": "2022-12-12T09:30:30.320Z"
   },
   {
    "duration": 41,
    "start_time": "2022-12-12T09:30:30.358Z"
   },
   {
    "duration": 32,
    "start_time": "2022-12-12T09:30:30.400Z"
   },
   {
    "duration": 20,
    "start_time": "2022-12-12T09:30:30.433Z"
   },
   {
    "duration": 441,
    "start_time": "2022-12-12T09:30:30.455Z"
   },
   {
    "duration": 9,
    "start_time": "2022-12-12T09:30:30.898Z"
   },
   {
    "duration": 9,
    "start_time": "2022-12-12T09:30:30.915Z"
   },
   {
    "duration": 9,
    "start_time": "2022-12-12T09:30:30.925Z"
   },
   {
    "duration": 19,
    "start_time": "2022-12-12T09:30:30.935Z"
   },
   {
    "duration": 384,
    "start_time": "2022-12-12T09:30:30.956Z"
   },
   {
    "duration": 249,
    "start_time": "2022-12-12T09:30:31.341Z"
   },
   {
    "duration": 1200,
    "start_time": "2022-12-12T09:30:31.591Z"
   },
   {
    "duration": 5,
    "start_time": "2022-12-12T09:30:32.793Z"
   },
   {
    "duration": 287,
    "start_time": "2022-12-12T09:30:32.800Z"
   },
   {
    "duration": 8,
    "start_time": "2022-12-12T09:30:33.088Z"
   },
   {
    "duration": 32,
    "start_time": "2022-12-12T09:30:33.097Z"
   },
   {
    "duration": 188,
    "start_time": "2022-12-12T09:30:33.130Z"
   },
   {
    "duration": 7,
    "start_time": "2022-12-12T09:30:33.319Z"
   },
   {
    "duration": 1520,
    "start_time": "2022-12-12T09:30:33.328Z"
   },
   {
    "duration": 15,
    "start_time": "2022-12-12T09:30:34.850Z"
   },
   {
    "duration": 284,
    "start_time": "2022-12-12T09:30:34.867Z"
   },
   {
    "duration": 173,
    "start_time": "2022-12-12T09:30:35.153Z"
   },
   {
    "duration": 218,
    "start_time": "2022-12-12T09:30:35.327Z"
   },
   {
    "duration": 252,
    "start_time": "2022-12-12T09:30:35.546Z"
   },
   {
    "duration": 187,
    "start_time": "2022-12-12T09:30:35.800Z"
   },
   {
    "duration": 160,
    "start_time": "2022-12-12T09:30:35.988Z"
   },
   {
    "duration": 269,
    "start_time": "2022-12-12T09:30:36.150Z"
   },
   {
    "duration": 187,
    "start_time": "2022-12-12T09:30:36.420Z"
   },
   {
    "duration": 147,
    "start_time": "2022-12-12T09:30:36.608Z"
   },
   {
    "duration": 9,
    "start_time": "2022-12-12T09:30:36.757Z"
   },
   {
    "duration": 8,
    "start_time": "2022-12-12T09:30:36.767Z"
   },
   {
    "duration": 78,
    "start_time": "2022-12-12T12:23:35.700Z"
   },
   {
    "duration": 93,
    "start_time": "2022-12-12T12:23:43.120Z"
   },
   {
    "duration": 73,
    "start_time": "2022-12-12T12:24:06.897Z"
   },
   {
    "duration": 77,
    "start_time": "2022-12-12T12:25:03.400Z"
   },
   {
    "duration": 69,
    "start_time": "2022-12-12T12:27:05.718Z"
   },
   {
    "duration": 1334,
    "start_time": "2022-12-12T12:27:27.670Z"
   },
   {
    "duration": 193,
    "start_time": "2022-12-12T12:27:29.007Z"
   },
   {
    "duration": 14,
    "start_time": "2022-12-12T12:27:29.201Z"
   },
   {
    "duration": 25,
    "start_time": "2022-12-12T12:27:29.216Z"
   },
   {
    "duration": 3,
    "start_time": "2022-12-12T12:27:29.244Z"
   },
   {
    "duration": 12,
    "start_time": "2022-12-12T12:27:29.249Z"
   },
   {
    "duration": 15,
    "start_time": "2022-12-12T12:27:29.262Z"
   },
   {
    "duration": 13,
    "start_time": "2022-12-12T12:27:29.278Z"
   },
   {
    "duration": 29,
    "start_time": "2022-12-12T12:27:29.293Z"
   },
   {
    "duration": 26,
    "start_time": "2022-12-12T12:27:29.323Z"
   },
   {
    "duration": 16,
    "start_time": "2022-12-12T12:27:29.351Z"
   },
   {
    "duration": 441,
    "start_time": "2022-12-12T12:27:29.368Z"
   },
   {
    "duration": 7,
    "start_time": "2022-12-12T12:27:29.810Z"
   },
   {
    "duration": 13,
    "start_time": "2022-12-12T12:27:29.820Z"
   },
   {
    "duration": 5,
    "start_time": "2022-12-12T12:27:29.835Z"
   },
   {
    "duration": 391,
    "start_time": "2022-12-12T12:27:29.842Z"
   },
   {
    "duration": 259,
    "start_time": "2022-12-12T12:27:30.234Z"
   },
   {
    "duration": 1060,
    "start_time": "2022-12-12T12:27:30.494Z"
   },
   {
    "duration": 5,
    "start_time": "2022-12-12T12:27:31.556Z"
   },
   {
    "duration": 269,
    "start_time": "2022-12-12T12:27:31.563Z"
   },
   {
    "duration": 8,
    "start_time": "2022-12-12T12:27:31.834Z"
   },
   {
    "duration": 37,
    "start_time": "2022-12-12T12:27:31.843Z"
   },
   {
    "duration": 185,
    "start_time": "2022-12-12T12:27:31.881Z"
   },
   {
    "duration": 6,
    "start_time": "2022-12-12T12:27:32.067Z"
   },
   {
    "duration": 1430,
    "start_time": "2022-12-12T12:27:32.074Z"
   },
   {
    "duration": 15,
    "start_time": "2022-12-12T12:27:33.506Z"
   },
   {
    "duration": 264,
    "start_time": "2022-12-12T12:27:33.523Z"
   },
   {
    "duration": 178,
    "start_time": "2022-12-12T12:27:33.789Z"
   },
   {
    "duration": 222,
    "start_time": "2022-12-12T12:27:33.969Z"
   },
   {
    "duration": 239,
    "start_time": "2022-12-12T12:27:34.193Z"
   },
   {
    "duration": 184,
    "start_time": "2022-12-12T12:27:34.433Z"
   },
   {
    "duration": 143,
    "start_time": "2022-12-12T12:27:34.619Z"
   },
   {
    "duration": 268,
    "start_time": "2022-12-12T12:27:34.764Z"
   },
   {
    "duration": 159,
    "start_time": "2022-12-12T12:27:35.034Z"
   },
   {
    "duration": 145,
    "start_time": "2022-12-12T12:27:35.194Z"
   },
   {
    "duration": 10,
    "start_time": "2022-12-12T12:27:35.340Z"
   },
   {
    "duration": 8,
    "start_time": "2022-12-12T12:27:35.351Z"
   },
   {
    "duration": 200,
    "start_time": "2022-12-12T12:30:50.048Z"
   },
   {
    "duration": 217,
    "start_time": "2022-12-12T12:31:01.327Z"
   },
   {
    "duration": 273,
    "start_time": "2022-12-12T12:31:21.612Z"
   },
   {
    "duration": 248,
    "start_time": "2022-12-12T12:31:47.331Z"
   },
   {
    "duration": 185,
    "start_time": "2022-12-12T12:32:20.717Z"
   },
   {
    "duration": 5,
    "start_time": "2022-12-12T12:32:40.416Z"
   },
   {
    "duration": 19,
    "start_time": "2022-12-12T12:32:45.137Z"
   },
   {
    "duration": 145,
    "start_time": "2022-12-12T12:32:50.286Z"
   },
   {
    "duration": 6,
    "start_time": "2022-12-12T12:33:14.232Z"
   },
   {
    "duration": 18,
    "start_time": "2022-12-12T12:33:16.044Z"
   },
   {
    "duration": 150,
    "start_time": "2022-12-12T12:33:18.692Z"
   },
   {
    "duration": 145,
    "start_time": "2022-12-12T12:34:45.989Z"
   },
   {
    "duration": 144,
    "start_time": "2022-12-12T12:34:51.428Z"
   },
   {
    "duration": 157,
    "start_time": "2022-12-12T12:34:58.895Z"
   },
   {
    "duration": 5,
    "start_time": "2022-12-12T12:36:44.268Z"
   },
   {
    "duration": 1650,
    "start_time": "2022-12-12T12:36:46.926Z"
   },
   {
    "duration": 1332,
    "start_time": "2022-12-12T12:39:22.287Z"
   },
   {
    "duration": 2051,
    "start_time": "2022-12-12T12:39:44.315Z"
   },
   {
    "duration": 109,
    "start_time": "2022-12-12T12:40:19.626Z"
   },
   {
    "duration": 15,
    "start_time": "2022-12-12T12:40:32.650Z"
   },
   {
    "duration": 15,
    "start_time": "2022-12-12T12:41:09.210Z"
   },
   {
    "duration": 241,
    "start_time": "2022-12-12T12:43:03.014Z"
   },
   {
    "duration": 328,
    "start_time": "2022-12-12T12:44:13.950Z"
   },
   {
    "duration": 235,
    "start_time": "2022-12-12T12:44:34.733Z"
   },
   {
    "duration": 322,
    "start_time": "2022-12-12T12:44:54.885Z"
   },
   {
    "duration": 161,
    "start_time": "2022-12-12T12:45:03.169Z"
   },
   {
    "duration": 163,
    "start_time": "2022-12-12T12:45:10.263Z"
   },
   {
    "duration": 121,
    "start_time": "2022-12-12T12:45:20.974Z"
   },
   {
    "duration": 250,
    "start_time": "2022-12-12T12:45:30.123Z"
   },
   {
    "duration": 166,
    "start_time": "2022-12-12T12:45:42.708Z"
   },
   {
    "duration": 126,
    "start_time": "2022-12-12T12:45:51.588Z"
   },
   {
    "duration": 247,
    "start_time": "2022-12-12T12:46:03.324Z"
   },
   {
    "duration": 229,
    "start_time": "2022-12-12T12:46:10.642Z"
   },
   {
    "duration": 131,
    "start_time": "2022-12-12T12:46:23.095Z"
   },
   {
    "duration": 9,
    "start_time": "2022-12-12T12:47:39.124Z"
   },
   {
    "duration": 8,
    "start_time": "2022-12-12T12:47:56.666Z"
   },
   {
    "duration": 8,
    "start_time": "2022-12-12T12:48:05.258Z"
   },
   {
    "duration": 10,
    "start_time": "2022-12-12T12:49:36.161Z"
   },
   {
    "duration": 846,
    "start_time": "2022-12-12T12:49:43.653Z"
   },
   {
    "duration": 6,
    "start_time": "2022-12-12T12:52:47.472Z"
   },
   {
    "duration": 5,
    "start_time": "2022-12-12T12:52:55.868Z"
   },
   {
    "duration": 4,
    "start_time": "2022-12-12T12:53:05.348Z"
   },
   {
    "duration": 143,
    "start_time": "2022-12-12T12:53:23.895Z"
   },
   {
    "duration": 151,
    "start_time": "2022-12-12T12:53:48.319Z"
   },
   {
    "duration": 141,
    "start_time": "2022-12-12T12:53:56.981Z"
   },
   {
    "duration": 137,
    "start_time": "2022-12-12T12:54:05.284Z"
   },
   {
    "duration": 230,
    "start_time": "2022-12-12T12:54:11.990Z"
   },
   {
    "duration": 138,
    "start_time": "2022-12-12T12:54:16.351Z"
   },
   {
    "duration": 159,
    "start_time": "2022-12-12T12:54:31.165Z"
   },
   {
    "duration": 132,
    "start_time": "2022-12-12T12:54:38.755Z"
   },
   {
    "duration": 87,
    "start_time": "2022-12-12T12:54:56.775Z"
   },
   {
    "duration": 134,
    "start_time": "2022-12-12T12:55:12.675Z"
   },
   {
    "duration": 142,
    "start_time": "2022-12-12T12:55:18.458Z"
   },
   {
    "duration": 150,
    "start_time": "2022-12-12T12:55:27.134Z"
   },
   {
    "duration": 155,
    "start_time": "2022-12-12T12:56:02.702Z"
   },
   {
    "duration": 143,
    "start_time": "2022-12-12T12:56:25.146Z"
   },
   {
    "duration": 147,
    "start_time": "2022-12-12T12:56:52.410Z"
   },
   {
    "duration": 162,
    "start_time": "2022-12-12T12:57:07.156Z"
   },
   {
    "duration": 243,
    "start_time": "2022-12-12T12:57:37.864Z"
   },
   {
    "duration": 168,
    "start_time": "2022-12-12T12:58:29.826Z"
   },
   {
    "duration": 1068,
    "start_time": "2022-12-12T12:58:41.240Z"
   },
   {
    "duration": 55,
    "start_time": "2022-12-12T12:58:42.311Z"
   },
   {
    "duration": 14,
    "start_time": "2022-12-12T12:58:42.367Z"
   },
   {
    "duration": 20,
    "start_time": "2022-12-12T12:58:42.383Z"
   },
   {
    "duration": 789,
    "start_time": "2022-12-12T12:58:42.405Z"
   },
   {
    "duration": 1366,
    "start_time": "2022-12-12T12:58:43.204Z"
   },
   {
    "duration": 0,
    "start_time": "2022-12-12T12:58:44.574Z"
   },
   {
    "duration": 0,
    "start_time": "2022-12-12T12:58:44.576Z"
   },
   {
    "duration": 0,
    "start_time": "2022-12-12T12:58:44.577Z"
   },
   {
    "duration": 0,
    "start_time": "2022-12-12T12:58:44.579Z"
   },
   {
    "duration": 0,
    "start_time": "2022-12-12T12:58:44.580Z"
   },
   {
    "duration": 0,
    "start_time": "2022-12-12T12:58:44.582Z"
   },
   {
    "duration": 0,
    "start_time": "2022-12-12T12:58:44.583Z"
   },
   {
    "duration": 0,
    "start_time": "2022-12-12T12:58:44.584Z"
   },
   {
    "duration": 0,
    "start_time": "2022-12-12T12:58:44.586Z"
   },
   {
    "duration": 0,
    "start_time": "2022-12-12T12:58:44.587Z"
   },
   {
    "duration": 0,
    "start_time": "2022-12-12T12:58:44.589Z"
   },
   {
    "duration": 0,
    "start_time": "2022-12-12T12:58:44.591Z"
   },
   {
    "duration": 0,
    "start_time": "2022-12-12T12:58:44.594Z"
   },
   {
    "duration": 0,
    "start_time": "2022-12-12T12:58:44.595Z"
   },
   {
    "duration": 0,
    "start_time": "2022-12-12T12:58:44.597Z"
   },
   {
    "duration": 0,
    "start_time": "2022-12-12T12:58:44.598Z"
   },
   {
    "duration": 0,
    "start_time": "2022-12-12T12:58:44.600Z"
   },
   {
    "duration": 0,
    "start_time": "2022-12-12T12:58:44.601Z"
   },
   {
    "duration": 0,
    "start_time": "2022-12-12T12:58:44.603Z"
   },
   {
    "duration": 0,
    "start_time": "2022-12-12T12:58:44.604Z"
   },
   {
    "duration": 0,
    "start_time": "2022-12-12T12:58:44.606Z"
   },
   {
    "duration": 0,
    "start_time": "2022-12-12T12:58:44.607Z"
   },
   {
    "duration": 0,
    "start_time": "2022-12-12T12:58:44.609Z"
   },
   {
    "duration": 0,
    "start_time": "2022-12-12T12:58:44.610Z"
   },
   {
    "duration": 0,
    "start_time": "2022-12-12T12:58:44.612Z"
   },
   {
    "duration": 0,
    "start_time": "2022-12-12T12:58:44.613Z"
   },
   {
    "duration": 0,
    "start_time": "2022-12-12T12:58:44.614Z"
   },
   {
    "duration": 0,
    "start_time": "2022-12-12T12:58:44.616Z"
   },
   {
    "duration": 0,
    "start_time": "2022-12-12T12:58:44.617Z"
   },
   {
    "duration": 0,
    "start_time": "2022-12-12T12:58:44.619Z"
   },
   {
    "duration": 0,
    "start_time": "2022-12-12T12:58:44.621Z"
   },
   {
    "duration": 0,
    "start_time": "2022-12-12T12:58:44.622Z"
   },
   {
    "duration": 0,
    "start_time": "2022-12-12T12:58:44.624Z"
   },
   {
    "duration": 0,
    "start_time": "2022-12-12T12:58:44.625Z"
   },
   {
    "duration": 0,
    "start_time": "2022-12-12T12:58:44.626Z"
   },
   {
    "duration": 0,
    "start_time": "2022-12-12T12:58:44.628Z"
   },
   {
    "duration": 0,
    "start_time": "2022-12-12T12:58:44.630Z"
   },
   {
    "duration": 1246,
    "start_time": "2022-12-12T13:00:10.881Z"
   },
   {
    "duration": 1178,
    "start_time": "2022-12-12T13:00:36.736Z"
   },
   {
    "duration": 1211,
    "start_time": "2022-12-12T13:00:40.812Z"
   },
   {
    "duration": 4,
    "start_time": "2022-12-12T13:00:59.510Z"
   },
   {
    "duration": 1104,
    "start_time": "2022-12-12T13:01:15.117Z"
   },
   {
    "duration": 53,
    "start_time": "2022-12-12T13:01:16.224Z"
   },
   {
    "duration": 15,
    "start_time": "2022-12-12T13:01:16.279Z"
   },
   {
    "duration": 28,
    "start_time": "2022-12-12T13:01:16.296Z"
   },
   {
    "duration": 726,
    "start_time": "2022-12-12T13:01:16.327Z"
   },
   {
    "duration": 5,
    "start_time": "2022-12-12T13:01:17.055Z"
   },
   {
    "duration": 165,
    "start_time": "2022-12-12T13:01:17.061Z"
   },
   {
    "duration": 157,
    "start_time": "2022-12-12T13:01:17.228Z"
   },
   {
    "duration": 195,
    "start_time": "2022-12-12T13:01:17.387Z"
   },
   {
    "duration": 174,
    "start_time": "2022-12-12T13:01:17.584Z"
   },
   {
    "duration": 10,
    "start_time": "2022-12-12T13:01:17.760Z"
   },
   {
    "duration": 34,
    "start_time": "2022-12-12T13:01:17.771Z"
   },
   {
    "duration": 33,
    "start_time": "2022-12-12T13:01:17.807Z"
   },
   {
    "duration": 39,
    "start_time": "2022-12-12T13:01:17.842Z"
   },
   {
    "duration": 97,
    "start_time": "2022-12-12T13:01:17.883Z"
   },
   {
    "duration": 40,
    "start_time": "2022-12-12T13:01:17.983Z"
   },
   {
    "duration": 506,
    "start_time": "2022-12-12T13:01:18.024Z"
   },
   {
    "duration": 7,
    "start_time": "2022-12-12T13:01:18.531Z"
   },
   {
    "duration": 12,
    "start_time": "2022-12-12T13:01:18.539Z"
   },
   {
    "duration": 5,
    "start_time": "2022-12-12T13:01:18.553Z"
   },
   {
    "duration": 358,
    "start_time": "2022-12-12T13:01:18.560Z"
   },
   {
    "duration": 256,
    "start_time": "2022-12-12T13:01:18.920Z"
   },
   {
    "duration": 1437,
    "start_time": "2022-12-12T13:01:19.178Z"
   },
   {
    "duration": 5,
    "start_time": "2022-12-12T13:01:20.617Z"
   },
   {
    "duration": 219,
    "start_time": "2022-12-12T13:01:20.623Z"
   },
   {
    "duration": 6,
    "start_time": "2022-12-12T13:01:20.843Z"
   },
   {
    "duration": 46,
    "start_time": "2022-12-12T13:01:20.851Z"
   },
   {
    "duration": 171,
    "start_time": "2022-12-12T13:01:20.899Z"
   },
   {
    "duration": 100,
    "start_time": "2022-12-12T13:01:21.072Z"
   },
   {
    "duration": 2103,
    "start_time": "2022-12-12T13:01:21.173Z"
   },
   {
    "duration": 30,
    "start_time": "2022-12-12T13:01:23.278Z"
   },
   {
    "duration": 16,
    "start_time": "2022-12-12T13:01:23.310Z"
   },
   {
    "duration": 248,
    "start_time": "2022-12-12T13:01:23.327Z"
   },
   {
    "duration": 164,
    "start_time": "2022-12-12T13:01:23.577Z"
   },
   {
    "duration": 239,
    "start_time": "2022-12-12T13:01:23.742Z"
   },
   {
    "duration": 256,
    "start_time": "2022-12-12T13:01:23.983Z"
   },
   {
    "duration": 158,
    "start_time": "2022-12-12T13:01:24.241Z"
   },
   {
    "duration": 134,
    "start_time": "2022-12-12T13:01:24.405Z"
   },
   {
    "duration": 235,
    "start_time": "2022-12-12T13:01:24.540Z"
   },
   {
    "duration": 156,
    "start_time": "2022-12-12T13:01:24.776Z"
   },
   {
    "duration": 136,
    "start_time": "2022-12-12T13:01:24.936Z"
   },
   {
    "duration": 9,
    "start_time": "2022-12-12T13:01:25.073Z"
   },
   {
    "duration": 21,
    "start_time": "2022-12-12T13:01:25.084Z"
   },
   {
    "duration": 925,
    "start_time": "2022-12-12T13:01:55.442Z"
   },
   {
    "duration": 44,
    "start_time": "2022-12-13T10:56:39.540Z"
   },
   {
    "duration": 6,
    "start_time": "2022-12-13T10:56:47.251Z"
   },
   {
    "duration": 1324,
    "start_time": "2022-12-13T10:56:52.254Z"
   },
   {
    "duration": 217,
    "start_time": "2022-12-13T10:56:54.285Z"
   },
   {
    "duration": 7,
    "start_time": "2022-12-13T10:57:05.017Z"
   },
   {
    "duration": 91,
    "start_time": "2022-12-13T11:00:01.539Z"
   },
   {
    "duration": 13,
    "start_time": "2022-12-13T11:00:04.653Z"
   },
   {
    "duration": 1180,
    "start_time": "2022-12-13T11:00:15.822Z"
   },
   {
    "duration": 73,
    "start_time": "2022-12-13T11:00:17.004Z"
   },
   {
    "duration": 15,
    "start_time": "2022-12-13T11:00:17.078Z"
   },
   {
    "duration": 51,
    "start_time": "2022-12-13T11:00:17.094Z"
   },
   {
    "duration": 771,
    "start_time": "2022-12-13T11:00:17.147Z"
   },
   {
    "duration": 9,
    "start_time": "2022-12-13T11:00:17.920Z"
   },
   {
    "duration": 207,
    "start_time": "2022-12-13T11:00:17.930Z"
   },
   {
    "duration": 151,
    "start_time": "2022-12-13T11:00:18.146Z"
   },
   {
    "duration": 177,
    "start_time": "2022-12-13T11:00:18.299Z"
   },
   {
    "duration": 166,
    "start_time": "2022-12-13T11:00:18.477Z"
   },
   {
    "duration": 846,
    "start_time": "2022-12-13T11:00:18.644Z"
   },
   {
    "duration": 13,
    "start_time": "2022-12-13T11:00:19.493Z"
   },
   {
    "duration": 55,
    "start_time": "2022-12-13T11:00:19.509Z"
   },
   {
    "duration": 9,
    "start_time": "2022-12-13T11:00:19.568Z"
   },
   {
    "duration": 35,
    "start_time": "2022-12-13T11:00:19.578Z"
   },
   {
    "duration": 72,
    "start_time": "2022-12-13T11:00:19.614Z"
   },
   {
    "duration": 33,
    "start_time": "2022-12-13T11:00:19.688Z"
   },
   {
    "duration": 494,
    "start_time": "2022-12-13T11:00:19.723Z"
   },
   {
    "duration": 10,
    "start_time": "2022-12-13T11:00:20.219Z"
   },
   {
    "duration": 55,
    "start_time": "2022-12-13T11:00:20.231Z"
   },
   {
    "duration": 23,
    "start_time": "2022-12-13T11:00:20.288Z"
   },
   {
    "duration": 48,
    "start_time": "2022-12-13T11:00:20.313Z"
   },
   {
    "duration": 379,
    "start_time": "2022-12-13T11:00:20.362Z"
   },
   {
    "duration": 282,
    "start_time": "2022-12-13T11:00:20.747Z"
   },
   {
    "duration": 1672,
    "start_time": "2022-12-13T11:00:21.034Z"
   },
   {
    "duration": 5,
    "start_time": "2022-12-13T11:00:22.707Z"
   },
   {
    "duration": 221,
    "start_time": "2022-12-13T11:00:22.714Z"
   },
   {
    "duration": 16,
    "start_time": "2022-12-13T11:00:22.942Z"
   },
   {
    "duration": 33,
    "start_time": "2022-12-13T11:00:22.961Z"
   },
   {
    "duration": 163,
    "start_time": "2022-12-13T11:00:22.996Z"
   },
   {
    "duration": 6,
    "start_time": "2022-12-13T11:00:23.160Z"
   },
   {
    "duration": 2421,
    "start_time": "2022-12-13T11:00:23.168Z"
   },
   {
    "duration": 22,
    "start_time": "2022-12-13T11:00:25.591Z"
   },
   {
    "duration": 30,
    "start_time": "2022-12-13T11:00:25.615Z"
   },
   {
    "duration": 331,
    "start_time": "2022-12-13T11:00:25.649Z"
   },
   {
    "duration": 173,
    "start_time": "2022-12-13T11:00:25.981Z"
   },
   {
    "duration": 135,
    "start_time": "2022-12-13T11:00:26.155Z"
   },
   {
    "duration": 282,
    "start_time": "2022-12-13T11:00:26.292Z"
   },
   {
    "duration": 183,
    "start_time": "2022-12-13T11:00:26.575Z"
   },
   {
    "duration": 133,
    "start_time": "2022-12-13T11:00:26.760Z"
   },
   {
    "duration": 276,
    "start_time": "2022-12-13T11:00:26.896Z"
   },
   {
    "duration": 247,
    "start_time": "2022-12-13T11:00:27.173Z"
   },
   {
    "duration": 148,
    "start_time": "2022-12-13T11:00:27.422Z"
   },
   {
    "duration": 12,
    "start_time": "2022-12-13T11:00:27.572Z"
   },
   {
    "duration": 9,
    "start_time": "2022-12-13T11:00:27.586Z"
   },
   {
    "duration": 277,
    "start_time": "2022-12-13T11:00:38.105Z"
   },
   {
    "duration": 324,
    "start_time": "2022-12-13T11:00:45.614Z"
   },
   {
    "duration": 79,
    "start_time": "2022-12-13T11:01:46.197Z"
   },
   {
    "duration": 1128,
    "start_time": "2022-12-13T11:06:06.204Z"
   },
   {
    "duration": 50,
    "start_time": "2022-12-13T11:06:07.335Z"
   },
   {
    "duration": 23,
    "start_time": "2022-12-13T11:06:07.387Z"
   },
   {
    "duration": 28,
    "start_time": "2022-12-13T11:06:07.412Z"
   },
   {
    "duration": 790,
    "start_time": "2022-12-13T11:06:07.441Z"
   },
   {
    "duration": 4,
    "start_time": "2022-12-13T11:06:08.232Z"
   },
   {
    "duration": 145,
    "start_time": "2022-12-13T11:06:08.238Z"
   },
   {
    "duration": 148,
    "start_time": "2022-12-13T11:06:08.384Z"
   },
   {
    "duration": 141,
    "start_time": "2022-12-13T11:06:08.534Z"
   },
   {
    "duration": 151,
    "start_time": "2022-12-13T11:06:08.677Z"
   },
   {
    "duration": 792,
    "start_time": "2022-12-13T11:06:08.829Z"
   },
   {
    "duration": 11,
    "start_time": "2022-12-13T11:06:09.623Z"
   },
   {
    "duration": 14,
    "start_time": "2022-12-13T11:06:09.636Z"
   },
   {
    "duration": 12,
    "start_time": "2022-12-13T11:06:09.652Z"
   },
   {
    "duration": 21,
    "start_time": "2022-12-13T11:06:09.666Z"
   },
   {
    "duration": 28,
    "start_time": "2022-12-13T11:06:09.689Z"
   },
   {
    "duration": 17,
    "start_time": "2022-12-13T11:06:09.726Z"
   },
   {
    "duration": 426,
    "start_time": "2022-12-13T11:06:09.745Z"
   },
   {
    "duration": 6,
    "start_time": "2022-12-13T11:06:10.172Z"
   },
   {
    "duration": 20,
    "start_time": "2022-12-13T11:06:10.180Z"
   },
   {
    "duration": 6,
    "start_time": "2022-12-13T11:06:10.202Z"
   },
   {
    "duration": 9,
    "start_time": "2022-12-13T11:06:10.210Z"
   },
   {
    "duration": 351,
    "start_time": "2022-12-13T11:06:10.225Z"
   },
   {
    "duration": 232,
    "start_time": "2022-12-13T11:06:10.578Z"
   },
   {
    "duration": 1511,
    "start_time": "2022-12-13T11:06:10.811Z"
   },
   {
    "duration": 9,
    "start_time": "2022-12-13T11:06:12.326Z"
   },
   {
    "duration": 197,
    "start_time": "2022-12-13T11:06:12.336Z"
   },
   {
    "duration": 5,
    "start_time": "2022-12-13T11:06:12.536Z"
   },
   {
    "duration": 24,
    "start_time": "2022-12-13T11:06:12.542Z"
   },
   {
    "duration": 175,
    "start_time": "2022-12-13T11:06:12.568Z"
   },
   {
    "duration": 9,
    "start_time": "2022-12-13T11:06:12.745Z"
   },
   {
    "duration": 1875,
    "start_time": "2022-12-13T11:06:12.756Z"
   },
   {
    "duration": 16,
    "start_time": "2022-12-13T11:06:14.633Z"
   },
   {
    "duration": 19,
    "start_time": "2022-12-13T11:06:14.650Z"
   },
   {
    "duration": 138,
    "start_time": "2022-12-13T11:06:14.671Z"
   },
   {
    "duration": 174,
    "start_time": "2022-12-13T11:06:14.811Z"
   },
   {
    "duration": 130,
    "start_time": "2022-12-13T11:06:14.987Z"
   },
   {
    "duration": 133,
    "start_time": "2022-12-13T11:06:15.119Z"
   },
   {
    "duration": 191,
    "start_time": "2022-12-13T11:06:15.254Z"
   },
   {
    "duration": 147,
    "start_time": "2022-12-13T11:06:15.447Z"
   },
   {
    "duration": 152,
    "start_time": "2022-12-13T11:06:15.596Z"
   },
   {
    "duration": 196,
    "start_time": "2022-12-13T11:06:15.750Z"
   },
   {
    "duration": 134,
    "start_time": "2022-12-13T11:06:15.948Z"
   },
   {
    "duration": 11,
    "start_time": "2022-12-13T11:06:16.084Z"
   },
   {
    "duration": 8,
    "start_time": "2022-12-13T11:06:16.096Z"
   },
   {
    "duration": 340,
    "start_time": "2022-12-13T11:06:32.597Z"
   },
   {
    "duration": 1118,
    "start_time": "2022-12-13T11:07:08.895Z"
   },
   {
    "duration": 50,
    "start_time": "2022-12-13T11:07:10.015Z"
   },
   {
    "duration": 15,
    "start_time": "2022-12-13T11:07:10.066Z"
   },
   {
    "duration": 25,
    "start_time": "2022-12-13T11:07:10.083Z"
   },
   {
    "duration": 719,
    "start_time": "2022-12-13T11:07:10.109Z"
   },
   {
    "duration": 5,
    "start_time": "2022-12-13T11:07:10.830Z"
   },
   {
    "duration": 154,
    "start_time": "2022-12-13T11:07:10.837Z"
   },
   {
    "duration": 174,
    "start_time": "2022-12-13T11:07:10.993Z"
   },
   {
    "duration": 160,
    "start_time": "2022-12-13T11:07:11.168Z"
   },
   {
    "duration": 161,
    "start_time": "2022-12-13T11:07:11.331Z"
   },
   {
    "duration": 850,
    "start_time": "2022-12-13T11:07:11.494Z"
   },
   {
    "duration": 10,
    "start_time": "2022-12-13T11:07:12.345Z"
   },
   {
    "duration": 11,
    "start_time": "2022-12-13T11:07:12.356Z"
   },
   {
    "duration": 6,
    "start_time": "2022-12-13T11:07:12.368Z"
   },
   {
    "duration": 17,
    "start_time": "2022-12-13T11:07:12.376Z"
   },
   {
    "duration": 21,
    "start_time": "2022-12-13T11:07:12.426Z"
   },
   {
    "duration": 73,
    "start_time": "2022-12-13T11:07:12.449Z"
   },
   {
    "duration": 415,
    "start_time": "2022-12-13T11:07:12.524Z"
   },
   {
    "duration": 8,
    "start_time": "2022-12-13T11:07:12.940Z"
   },
   {
    "duration": 17,
    "start_time": "2022-12-13T11:07:12.950Z"
   },
   {
    "duration": 7,
    "start_time": "2022-12-13T11:07:12.969Z"
   },
   {
    "duration": 8,
    "start_time": "2022-12-13T11:07:12.978Z"
   },
   {
    "duration": 376,
    "start_time": "2022-12-13T11:07:12.988Z"
   },
   {
    "duration": 245,
    "start_time": "2022-12-13T11:07:13.365Z"
   },
   {
    "duration": 1536,
    "start_time": "2022-12-13T11:07:13.611Z"
   },
   {
    "duration": 6,
    "start_time": "2022-12-13T11:07:15.149Z"
   },
   {
    "duration": 235,
    "start_time": "2022-12-13T11:07:15.156Z"
   },
   {
    "duration": 6,
    "start_time": "2022-12-13T11:07:15.395Z"
   },
   {
    "duration": 41,
    "start_time": "2022-12-13T11:07:15.402Z"
   },
   {
    "duration": 190,
    "start_time": "2022-12-13T11:07:15.445Z"
   },
   {
    "duration": 9,
    "start_time": "2022-12-13T11:07:15.637Z"
   },
   {
    "duration": 1936,
    "start_time": "2022-12-13T11:07:15.648Z"
   },
   {
    "duration": 15,
    "start_time": "2022-12-13T11:07:17.586Z"
   },
   {
    "duration": 35,
    "start_time": "2022-12-13T11:07:17.602Z"
   },
   {
    "duration": 140,
    "start_time": "2022-12-13T11:07:17.639Z"
   },
   {
    "duration": 173,
    "start_time": "2022-12-13T11:07:17.780Z"
   },
   {
    "duration": 127,
    "start_time": "2022-12-13T11:07:17.954Z"
   },
   {
    "duration": 115,
    "start_time": "2022-12-13T11:07:18.083Z"
   },
   {
    "duration": 177,
    "start_time": "2022-12-13T11:07:18.199Z"
   },
   {
    "duration": 122,
    "start_time": "2022-12-13T11:07:18.377Z"
   },
   {
    "duration": 114,
    "start_time": "2022-12-13T11:07:18.501Z"
   },
   {
    "duration": 172,
    "start_time": "2022-12-13T11:07:18.627Z"
   },
   {
    "duration": 135,
    "start_time": "2022-12-13T11:07:18.801Z"
   },
   {
    "duration": 8,
    "start_time": "2022-12-13T11:07:18.938Z"
   },
   {
    "duration": 41,
    "start_time": "2022-12-13T11:07:18.948Z"
   },
   {
    "duration": 6,
    "start_time": "2022-12-13T11:08:13.254Z"
   },
   {
    "duration": 2124,
    "start_time": "2022-12-13T11:08:16.086Z"
   },
   {
    "duration": 123,
    "start_time": "2022-12-13T11:09:35.393Z"
   },
   {
    "duration": 4,
    "start_time": "2022-12-13T11:09:52.741Z"
   },
   {
    "duration": 7,
    "start_time": "2022-12-13T11:11:56.443Z"
   },
   {
    "duration": 3,
    "start_time": "2022-12-13T11:12:03.962Z"
   },
   {
    "duration": 7,
    "start_time": "2022-12-13T11:12:10.459Z"
   },
   {
    "duration": 2130,
    "start_time": "2022-12-13T11:12:13.347Z"
   },
   {
    "duration": 80,
    "start_time": "2022-12-13T11:13:19.534Z"
   },
   {
    "duration": 1171,
    "start_time": "2022-12-13T11:14:29.304Z"
   },
   {
    "duration": 51,
    "start_time": "2022-12-13T11:14:30.477Z"
   },
   {
    "duration": 15,
    "start_time": "2022-12-13T11:14:30.529Z"
   },
   {
    "duration": 31,
    "start_time": "2022-12-13T11:14:30.546Z"
   },
   {
    "duration": 747,
    "start_time": "2022-12-13T11:14:30.580Z"
   },
   {
    "duration": 4,
    "start_time": "2022-12-13T11:14:31.329Z"
   },
   {
    "duration": 162,
    "start_time": "2022-12-13T11:14:31.334Z"
   },
   {
    "duration": 183,
    "start_time": "2022-12-13T11:14:31.497Z"
   },
   {
    "duration": 154,
    "start_time": "2022-12-13T11:14:31.682Z"
   },
   {
    "duration": 147,
    "start_time": "2022-12-13T11:14:31.840Z"
   },
   {
    "duration": 743,
    "start_time": "2022-12-13T11:14:31.989Z"
   },
   {
    "duration": 9,
    "start_time": "2022-12-13T11:14:32.733Z"
   },
   {
    "duration": 21,
    "start_time": "2022-12-13T11:14:32.743Z"
   },
   {
    "duration": 13,
    "start_time": "2022-12-13T11:14:32.765Z"
   },
   {
    "duration": 28,
    "start_time": "2022-12-13T11:14:32.779Z"
   },
   {
    "duration": 33,
    "start_time": "2022-12-13T11:14:32.809Z"
   },
   {
    "duration": 16,
    "start_time": "2022-12-13T11:14:32.844Z"
   },
   {
    "duration": 421,
    "start_time": "2022-12-13T11:14:32.862Z"
   },
   {
    "duration": 6,
    "start_time": "2022-12-13T11:14:33.285Z"
   },
   {
    "duration": 16,
    "start_time": "2022-12-13T11:14:33.294Z"
   },
   {
    "duration": 8,
    "start_time": "2022-12-13T11:14:33.312Z"
   },
   {
    "duration": 7,
    "start_time": "2022-12-13T11:14:33.326Z"
   },
   {
    "duration": 336,
    "start_time": "2022-12-13T11:14:33.334Z"
   },
   {
    "duration": 247,
    "start_time": "2022-12-13T11:14:33.672Z"
   },
   {
    "duration": 1459,
    "start_time": "2022-12-13T11:14:33.920Z"
   },
   {
    "duration": 7,
    "start_time": "2022-12-13T11:14:35.381Z"
   },
   {
    "duration": 200,
    "start_time": "2022-12-13T11:14:35.389Z"
   },
   {
    "duration": 5,
    "start_time": "2022-12-13T11:14:35.593Z"
   },
   {
    "duration": 46,
    "start_time": "2022-12-13T11:14:35.600Z"
   },
   {
    "duration": 190,
    "start_time": "2022-12-13T11:14:35.648Z"
   },
   {
    "duration": 9,
    "start_time": "2022-12-13T11:14:35.840Z"
   },
   {
    "duration": 32,
    "start_time": "2022-12-13T11:14:35.850Z"
   },
   {
    "duration": 1938,
    "start_time": "2022-12-13T11:14:35.884Z"
   },
   {
    "duration": 18,
    "start_time": "2022-12-13T11:14:37.827Z"
   },
   {
    "duration": 14,
    "start_time": "2022-12-13T11:14:37.847Z"
   },
   {
    "duration": 140,
    "start_time": "2022-12-13T11:14:37.862Z"
   },
   {
    "duration": 169,
    "start_time": "2022-12-13T11:14:38.004Z"
   },
   {
    "duration": 119,
    "start_time": "2022-12-13T11:14:38.175Z"
   },
   {
    "duration": 109,
    "start_time": "2022-12-13T11:14:38.296Z"
   },
   {
    "duration": 179,
    "start_time": "2022-12-13T11:14:38.407Z"
   },
   {
    "duration": 117,
    "start_time": "2022-12-13T11:14:38.588Z"
   },
   {
    "duration": 122,
    "start_time": "2022-12-13T11:14:38.707Z"
   },
   {
    "duration": 182,
    "start_time": "2022-12-13T11:14:38.831Z"
   },
   {
    "duration": 135,
    "start_time": "2022-12-13T11:14:39.015Z"
   },
   {
    "duration": 12,
    "start_time": "2022-12-13T11:14:39.152Z"
   },
   {
    "duration": 9,
    "start_time": "2022-12-13T11:14:39.165Z"
   },
   {
    "duration": 1141,
    "start_time": "2022-12-13T11:20:45.557Z"
   },
   {
    "duration": 54,
    "start_time": "2022-12-13T11:20:46.700Z"
   },
   {
    "duration": 14,
    "start_time": "2022-12-13T11:20:46.756Z"
   },
   {
    "duration": 18,
    "start_time": "2022-12-13T11:20:46.771Z"
   },
   {
    "duration": 731,
    "start_time": "2022-12-13T11:20:46.792Z"
   },
   {
    "duration": 4,
    "start_time": "2022-12-13T11:20:47.525Z"
   },
   {
    "duration": 140,
    "start_time": "2022-12-13T11:20:47.530Z"
   },
   {
    "duration": 149,
    "start_time": "2022-12-13T11:20:47.672Z"
   },
   {
    "duration": 150,
    "start_time": "2022-12-13T11:20:47.827Z"
   },
   {
    "duration": 138,
    "start_time": "2022-12-13T11:20:47.979Z"
   },
   {
    "duration": 772,
    "start_time": "2022-12-13T11:20:48.119Z"
   },
   {
    "duration": 8,
    "start_time": "2022-12-13T11:20:48.893Z"
   },
   {
    "duration": 13,
    "start_time": "2022-12-13T11:20:48.902Z"
   },
   {
    "duration": 5,
    "start_time": "2022-12-13T11:20:48.925Z"
   },
   {
    "duration": 19,
    "start_time": "2022-12-13T11:20:48.932Z"
   },
   {
    "duration": 24,
    "start_time": "2022-12-13T11:20:48.952Z"
   },
   {
    "duration": 15,
    "start_time": "2022-12-13T11:20:48.978Z"
   },
   {
    "duration": 442,
    "start_time": "2022-12-13T11:20:48.994Z"
   },
   {
    "duration": 6,
    "start_time": "2022-12-13T11:20:49.438Z"
   },
   {
    "duration": 15,
    "start_time": "2022-12-13T11:20:49.445Z"
   },
   {
    "duration": 6,
    "start_time": "2022-12-13T11:20:49.461Z"
   },
   {
    "duration": 12,
    "start_time": "2022-12-13T11:20:49.468Z"
   },
   {
    "duration": 346,
    "start_time": "2022-12-13T11:20:49.482Z"
   },
   {
    "duration": 259,
    "start_time": "2022-12-13T11:20:49.830Z"
   },
   {
    "duration": 1546,
    "start_time": "2022-12-13T11:20:50.091Z"
   },
   {
    "duration": 9,
    "start_time": "2022-12-13T11:20:51.638Z"
   },
   {
    "duration": 233,
    "start_time": "2022-12-13T11:20:51.648Z"
   },
   {
    "duration": 5,
    "start_time": "2022-12-13T11:20:51.883Z"
   },
   {
    "duration": 39,
    "start_time": "2022-12-13T11:20:51.890Z"
   },
   {
    "duration": 142,
    "start_time": "2022-12-13T11:20:51.931Z"
   },
   {
    "duration": 3,
    "start_time": "2022-12-13T11:20:52.075Z"
   },
   {
    "duration": 14,
    "start_time": "2022-12-13T11:20:52.080Z"
   },
   {
    "duration": 1895,
    "start_time": "2022-12-13T11:20:52.096Z"
   },
   {
    "duration": 15,
    "start_time": "2022-12-13T11:20:53.993Z"
   },
   {
    "duration": 28,
    "start_time": "2022-12-13T11:20:54.010Z"
   },
   {
    "duration": 136,
    "start_time": "2022-12-13T11:20:54.040Z"
   },
   {
    "duration": 171,
    "start_time": "2022-12-13T11:20:54.178Z"
   },
   {
    "duration": 113,
    "start_time": "2022-12-13T11:20:54.351Z"
   },
   {
    "duration": 126,
    "start_time": "2022-12-13T11:20:54.467Z"
   },
   {
    "duration": 177,
    "start_time": "2022-12-13T11:20:54.595Z"
   },
   {
    "duration": 116,
    "start_time": "2022-12-13T11:20:54.776Z"
   },
   {
    "duration": 114,
    "start_time": "2022-12-13T11:20:54.895Z"
   },
   {
    "duration": 177,
    "start_time": "2022-12-13T11:20:55.011Z"
   },
   {
    "duration": 114,
    "start_time": "2022-12-13T11:20:55.190Z"
   },
   {
    "duration": 24,
    "start_time": "2022-12-13T11:20:55.306Z"
   },
   {
    "duration": 8,
    "start_time": "2022-12-13T11:20:55.332Z"
   },
   {
    "duration": 46,
    "start_time": "2022-12-14T11:52:24.852Z"
   },
   {
    "duration": 1294,
    "start_time": "2022-12-14T11:52:31.639Z"
   },
   {
    "duration": 98,
    "start_time": "2022-12-14T11:52:32.935Z"
   },
   {
    "duration": 14,
    "start_time": "2022-12-14T11:52:33.034Z"
   },
   {
    "duration": 18,
    "start_time": "2022-12-14T11:52:33.051Z"
   },
   {
    "duration": 707,
    "start_time": "2022-12-14T11:52:33.071Z"
   },
   {
    "duration": 4,
    "start_time": "2022-12-14T11:52:33.779Z"
   },
   {
    "duration": 143,
    "start_time": "2022-12-14T11:52:33.785Z"
   },
   {
    "duration": 148,
    "start_time": "2022-12-14T11:52:33.930Z"
   },
   {
    "duration": 162,
    "start_time": "2022-12-14T11:52:34.079Z"
   },
   {
    "duration": 146,
    "start_time": "2022-12-14T11:52:34.243Z"
   },
   {
    "duration": 804,
    "start_time": "2022-12-14T11:52:34.391Z"
   },
   {
    "duration": 10,
    "start_time": "2022-12-14T11:52:35.197Z"
   },
   {
    "duration": 18,
    "start_time": "2022-12-14T11:52:35.209Z"
   },
   {
    "duration": 12,
    "start_time": "2022-12-14T11:52:35.229Z"
   },
   {
    "duration": 40,
    "start_time": "2022-12-14T11:52:35.243Z"
   },
   {
    "duration": 26,
    "start_time": "2022-12-14T11:52:35.285Z"
   },
   {
    "duration": 23,
    "start_time": "2022-12-14T11:52:35.314Z"
   },
   {
    "duration": 450,
    "start_time": "2022-12-14T11:52:35.339Z"
   },
   {
    "duration": 6,
    "start_time": "2022-12-14T11:52:35.790Z"
   },
   {
    "duration": 20,
    "start_time": "2022-12-14T11:52:35.798Z"
   },
   {
    "duration": 5,
    "start_time": "2022-12-14T11:52:35.819Z"
   },
   {
    "duration": 15,
    "start_time": "2022-12-14T11:52:35.825Z"
   },
   {
    "duration": 346,
    "start_time": "2022-12-14T11:52:35.841Z"
   },
   {
    "duration": 243,
    "start_time": "2022-12-14T11:52:36.189Z"
   },
   {
    "duration": 1458,
    "start_time": "2022-12-14T11:52:36.434Z"
   },
   {
    "duration": 7,
    "start_time": "2022-12-14T11:52:37.894Z"
   },
   {
    "duration": 194,
    "start_time": "2022-12-14T11:52:37.903Z"
   },
   {
    "duration": 5,
    "start_time": "2022-12-14T11:52:38.101Z"
   },
   {
    "duration": 30,
    "start_time": "2022-12-14T11:52:38.108Z"
   },
   {
    "duration": 142,
    "start_time": "2022-12-14T11:52:38.139Z"
   },
   {
    "duration": 3,
    "start_time": "2022-12-14T11:52:38.282Z"
   },
   {
    "duration": 5,
    "start_time": "2022-12-14T11:52:38.287Z"
   },
   {
    "duration": 1807,
    "start_time": "2022-12-14T11:52:38.293Z"
   },
   {
    "duration": 21,
    "start_time": "2022-12-14T11:52:40.101Z"
   },
   {
    "duration": 16,
    "start_time": "2022-12-14T11:52:40.123Z"
   },
   {
    "duration": 122,
    "start_time": "2022-12-14T11:52:40.141Z"
   },
   {
    "duration": 170,
    "start_time": "2022-12-14T11:52:40.264Z"
   },
   {
    "duration": 116,
    "start_time": "2022-12-14T11:52:40.436Z"
   },
   {
    "duration": 116,
    "start_time": "2022-12-14T11:52:40.554Z"
   },
   {
    "duration": 166,
    "start_time": "2022-12-14T11:52:40.671Z"
   },
   {
    "duration": 112,
    "start_time": "2022-12-14T11:52:40.839Z"
   },
   {
    "duration": 121,
    "start_time": "2022-12-14T11:52:40.953Z"
   },
   {
    "duration": 178,
    "start_time": "2022-12-14T11:52:41.076Z"
   },
   {
    "duration": 111,
    "start_time": "2022-12-14T11:52:41.256Z"
   },
   {
    "duration": 8,
    "start_time": "2022-12-14T11:52:41.369Z"
   },
   {
    "duration": 7,
    "start_time": "2022-12-14T11:52:41.379Z"
   },
   {
    "duration": 140,
    "start_time": "2022-12-14T11:52:48.211Z"
   },
   {
    "duration": 220,
    "start_time": "2022-12-14T11:53:12.662Z"
   },
   {
    "duration": 167,
    "start_time": "2022-12-14T11:53:16.108Z"
   },
   {
    "duration": 104,
    "start_time": "2022-12-14T11:53:26.055Z"
   },
   {
    "duration": 139,
    "start_time": "2022-12-14T11:53:39.418Z"
   },
   {
    "duration": 165,
    "start_time": "2022-12-14T11:53:54.143Z"
   },
   {
    "duration": 106,
    "start_time": "2022-12-14T11:54:01.141Z"
   },
   {
    "duration": 148,
    "start_time": "2022-12-14T11:54:11.341Z"
   },
   {
    "duration": 162,
    "start_time": "2022-12-14T11:54:25.826Z"
   },
   {
    "duration": 128,
    "start_time": "2022-12-14T11:54:36.531Z"
   }
  ],
  "kernelspec": {
   "display_name": "Python 3 (ipykernel)",
   "language": "python",
   "name": "python3"
  },
  "language_info": {
   "codemirror_mode": {
    "name": "ipython",
    "version": 3
   },
   "file_extension": ".py",
   "mimetype": "text/x-python",
   "name": "python",
   "nbconvert_exporter": "python",
   "pygments_lexer": "ipython3",
   "version": "3.10.9"
  },
  "toc": {
   "base_numbering": 1,
   "nav_menu": {},
   "number_sections": true,
   "sideBar": true,
   "skip_h1_title": true,
   "title_cell": "Table of Contents",
   "title_sidebar": "Contents",
   "toc_cell": false,
   "toc_position": {},
   "toc_section_display": true,
   "toc_window_display": false
  }
 },
 "nbformat": 4,
 "nbformat_minor": 2
}
